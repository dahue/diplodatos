{
 "cells": [
  {
   "cell_type": "markdown",
   "metadata": {},
   "source": [
    "<center>\n",
    "<h4>Diplomatura AACSyA 2018 - FaMAF - UNC</h4>\n",
    "<h3>Análisis y visualización de datos</h3>\n",
    "</center>\n",
    "\n",
    "# Tarea integradora - Parte 1\n",
    "\n",
    "En esta notebook presentamos una serie de ejercicios para trabajar con variables aleatorias discretas, tanto númericas como cátegoricas, ejemplificando los conceptos de probabilidad explicados en clase. Lo primero es determinar si todas las librerías están correctamente instaladas."
   ]
  },
  {
   "cell_type": "code",
   "execution_count": 1,
   "metadata": {},
   "outputs": [],
   "source": [
    "# %matplotlib notebook\n",
    "%matplotlib inline\n",
    "import pandas\n",
    "import numpy\n",
    "import seaborn"
   ]
  },
  {
   "cell_type": "code",
   "execution_count": 2,
   "metadata": {},
   "outputs": [],
   "source": [
    "seaborn.set_style('whitegrid')\n",
    "seaborn.set_context('talk')"
   ]
  },
  {
   "cell_type": "markdown",
   "metadata": {},
   "source": [
    "## Cargar el dataset en un dataframe de pandas\n",
    "\n",
    "Los dataframes son tablas con un montón de operaciones ya programadas. Prácticamente todas las funciones de SQL se pueden realizar en pandas con pocas líneas. Además de eso, tiene funciones para leer y escribir archivos en numerosos formatos.\n",
    "\n",
    "Ahora leemos directamente el archivo .csv"
   ]
  },
  {
   "cell_type": "code",
   "execution_count": 3,
   "metadata": {},
   "outputs": [
    {
     "name": "stdout",
     "output_type": "stream",
     "text": [
      "<module 'pandas' from '/home/adrian/miniconda3/envs/diplodatos-ayv/lib/python3.5/site-packages/pandas/__init__.py'>\n"
     ]
    }
   ],
   "source": [
    "print(pandas)"
   ]
  },
  {
   "cell_type": "code",
   "execution_count": 4,
   "metadata": {},
   "outputs": [],
   "source": [
    "dataset = pandas.read_csv('https://cs.famaf.unc.edu.ar/~mteruel/datasets/diplodatos/violencia-institucional-2018-01.csv',\n",
    "                          encoding='utf8')"
   ]
  },
  {
   "cell_type": "code",
   "execution_count": 5,
   "metadata": {},
   "outputs": [
    {
     "data": {
      "text/html": [
       "<div>\n",
       "<style scoped>\n",
       "    .dataframe tbody tr th:only-of-type {\n",
       "        vertical-align: middle;\n",
       "    }\n",
       "\n",
       "    .dataframe tbody tr th {\n",
       "        vertical-align: top;\n",
       "    }\n",
       "\n",
       "    .dataframe thead th {\n",
       "        text-align: right;\n",
       "    }\n",
       "</style>\n",
       "<table border=\"1\" class=\"dataframe\">\n",
       "  <thead>\n",
       "    <tr style=\"text-align: right;\">\n",
       "      <th></th>\n",
       "      <th>area</th>\n",
       "      <th>organismo_origen</th>\n",
       "      <th>via_acceso</th>\n",
       "      <th>año</th>\n",
       "      <th>provincia</th>\n",
       "      <th>contexto</th>\n",
       "      <th>contexto1</th>\n",
       "      <th>circunstancia</th>\n",
       "      <th>alojamiento</th>\n",
       "      <th>violencia_fisica</th>\n",
       "      <th>violencia_psiquica</th>\n",
       "      <th>violencia_genero</th>\n",
       "      <th>violencia_salud</th>\n",
       "      <th>resumen_hecho</th>\n",
       "      <th>descripcion_institucion</th>\n",
       "      <th>establecimiento</th>\n",
       "      <th>Unnamed: 16</th>\n",
       "    </tr>\n",
       "  </thead>\n",
       "  <tbody>\n",
       "    <tr>\n",
       "      <th>0</th>\n",
       "      <td>DNPCVI</td>\n",
       "      <td>SECRETARIA DE DDHH</td>\n",
       "      <td>Telefónica</td>\n",
       "      <td>2017,00</td>\n",
       "      <td>Buenos Aires</td>\n",
       "      <td>Situaciones de Detención</td>\n",
       "      <td>Penal / Complejo Penitenciario PROVINCIAL</td>\n",
       "      <td>NaN</td>\n",
       "      <td>NaN</td>\n",
       "      <td>NaN</td>\n",
       "      <td>NaN</td>\n",
       "      <td>NaN</td>\n",
       "      <td>Denegación acceso atención médica</td>\n",
       "      <td>NaN</td>\n",
       "      <td>Servicio Penitenciario Provincial</td>\n",
       "      <td>UPP Nº 13 Junin</td>\n",
       "      <td>NaN</td>\n",
       "    </tr>\n",
       "    <tr>\n",
       "      <th>1</th>\n",
       "      <td>DNPCVI</td>\n",
       "      <td>SECRETARIA DE DDHH</td>\n",
       "      <td>Telefónica</td>\n",
       "      <td>2017,00</td>\n",
       "      <td>Buenos Aires</td>\n",
       "      <td>Situaciones de Detención</td>\n",
       "      <td>Penal / Complejo Penitenciario PROVINCIAL</td>\n",
       "      <td>NaN</td>\n",
       "      <td>Malas condiciones de alojamiento (higiene), Hu...</td>\n",
       "      <td>NaN</td>\n",
       "      <td>NaN</td>\n",
       "      <td>NaN</td>\n",
       "      <td>Denegación acceso atención médica</td>\n",
       "      <td>NaN</td>\n",
       "      <td>Servicio Penitenciario Provincial</td>\n",
       "      <td>UPP Nº 13 DE JUNIN</td>\n",
       "      <td>NaN</td>\n",
       "    </tr>\n",
       "    <tr>\n",
       "      <th>2</th>\n",
       "      <td>DNPCVI</td>\n",
       "      <td>SECRETARIA DE DDHH</td>\n",
       "      <td>Telefónica</td>\n",
       "      <td>2017,00</td>\n",
       "      <td>Buenos Aires</td>\n",
       "      <td>Situaciones de Detención</td>\n",
       "      <td>Penal / Complejo Penitenciario PROVINCIAL</td>\n",
       "      <td>NaN</td>\n",
       "      <td>Malas condiciones de alojamiento (higiene)</td>\n",
       "      <td>NaN</td>\n",
       "      <td>NaN</td>\n",
       "      <td>NaN</td>\n",
       "      <td>NaN</td>\n",
       "      <td>NaN</td>\n",
       "      <td>Servicio Penitenciario Provincial</td>\n",
       "      <td>UPP Nº 36 de Magdalena</td>\n",
       "      <td>NaN</td>\n",
       "    </tr>\n",
       "  </tbody>\n",
       "</table>\n",
       "</div>"
      ],
      "text/plain": [
       "     area    organismo_origen  via_acceso      año     provincia  \\\n",
       "0  DNPCVI  SECRETARIA DE DDHH  Telefónica  2017,00  Buenos Aires   \n",
       "1  DNPCVI  SECRETARIA DE DDHH  Telefónica  2017,00  Buenos Aires   \n",
       "2  DNPCVI  SECRETARIA DE DDHH  Telefónica  2017,00  Buenos Aires   \n",
       "\n",
       "                   contexto                                  contexto1  \\\n",
       "0  Situaciones de Detención  Penal / Complejo Penitenciario PROVINCIAL   \n",
       "1  Situaciones de Detención  Penal / Complejo Penitenciario PROVINCIAL   \n",
       "2  Situaciones de Detención  Penal / Complejo Penitenciario PROVINCIAL   \n",
       "\n",
       "  circunstancia                                        alojamiento  \\\n",
       "0           NaN                                                NaN   \n",
       "1           NaN  Malas condiciones de alojamiento (higiene), Hu...   \n",
       "2           NaN         Malas condiciones de alojamiento (higiene)   \n",
       "\n",
       "  violencia_fisica violencia_psiquica violencia_genero  \\\n",
       "0              NaN                NaN              NaN   \n",
       "1              NaN                NaN              NaN   \n",
       "2              NaN                NaN              NaN   \n",
       "\n",
       "                     violencia_salud  resumen_hecho  \\\n",
       "0  Denegación acceso atención médica            NaN   \n",
       "1  Denegación acceso atención médica            NaN   \n",
       "2                                NaN            NaN   \n",
       "\n",
       "             descripcion_institucion         establecimiento  Unnamed: 16  \n",
       "0  Servicio Penitenciario Provincial         UPP Nº 13 Junin          NaN  \n",
       "1  Servicio Penitenciario Provincial      UPP Nº 13 DE JUNIN          NaN  \n",
       "2  Servicio Penitenciario Provincial  UPP Nº 36 de Magdalena          NaN  "
      ]
     },
     "execution_count": 5,
     "metadata": {},
     "output_type": "execute_result"
    }
   ],
   "source": [
    "dataset[:3]"
   ]
  },
  {
   "cell_type": "markdown",
   "metadata": {},
   "source": [
    "Los valores para los años no tienen un formato consistente en todas las filas, por lo que los procesaremos antes de comenzar. Los valores de año faltantes son reemplazados por NaN, y como la representación de enteros de numpy no soporta este tipo de valores, convertiremos cada año a tipo numpy.float. Otras decisiones pueden ser tomadas en este punto, como reemplazar los valores faltantes por 0 o elminarlos del dataset, dependiendo del tipo de datos que se requiera.\n",
    "\n",
    "También cambiaremos el nombre de la columna año, ya que el caracter ñ no permite utilizar el syntax sugar de pandas donde se obtienen los valores de la columna con la sintáxis de llamar a un método."
   ]
  },
  {
   "cell_type": "code",
   "execution_count": 6,
   "metadata": {},
   "outputs": [],
   "source": [
    "import six\n",
    "def convert_to_int(row):\n",
    "    try:\n",
    "        return float(row)\n",
    "    except ValueError:\n",
    "        if isinstance(row, six.string_types):\n",
    "            return float(row.split(',')[0])\n",
    "        return row\n",
    "\n",
    "dataset.loc[:,'year'] = dataset[u'año'].apply(convert_to_int)\n",
    "# Se podrían también decodicar los nombres de provincias\n",
    "# dataset.loc[:,'provincia'] = dataset.provincia.apply(lambda x: x.decode(\"utf-8\"))"
   ]
  },
  {
   "cell_type": "code",
   "execution_count": 7,
   "metadata": {},
   "outputs": [
    {
     "data": {
      "text/plain": [
       "((1439, 18), (1316,))"
      ]
     },
     "execution_count": 7,
     "metadata": {},
     "output_type": "execute_result"
    }
   ],
   "source": [
    "dataset.shape, dataset.year.dropna().shape"
   ]
  },
  {
   "cell_type": "code",
   "execution_count": 20,
   "metadata": {},
   "outputs": [
    {
     "data": {
      "text/html": [
       "<div>\n",
       "<style scoped>\n",
       "    .dataframe tbody tr th:only-of-type {\n",
       "        vertical-align: middle;\n",
       "    }\n",
       "\n",
       "    .dataframe tbody tr th {\n",
       "        vertical-align: top;\n",
       "    }\n",
       "\n",
       "    .dataframe thead th {\n",
       "        text-align: right;\n",
       "    }\n",
       "</style>\n",
       "<table border=\"1\" class=\"dataframe\">\n",
       "  <thead>\n",
       "    <tr style=\"text-align: right;\">\n",
       "      <th></th>\n",
       "      <th>area</th>\n",
       "      <th>organismo_origen</th>\n",
       "      <th>via_acceso</th>\n",
       "      <th>año</th>\n",
       "      <th>provincia</th>\n",
       "      <th>contexto</th>\n",
       "      <th>contexto1</th>\n",
       "      <th>circunstancia</th>\n",
       "      <th>alojamiento</th>\n",
       "      <th>violencia_fisica</th>\n",
       "      <th>violencia_psiquica</th>\n",
       "      <th>violencia_genero</th>\n",
       "      <th>violencia_salud</th>\n",
       "      <th>resumen_hecho</th>\n",
       "      <th>descripcion_institucion</th>\n",
       "      <th>establecimiento</th>\n",
       "      <th>Unnamed: 16</th>\n",
       "      <th>year</th>\n",
       "    </tr>\n",
       "  </thead>\n",
       "  <tbody>\n",
       "  </tbody>\n",
       "</table>\n",
       "</div>"
      ],
      "text/plain": [
       "Empty DataFrame\n",
       "Columns: [area, organismo_origen, via_acceso, año, provincia, contexto, contexto1, circunstancia, alojamiento, violencia_fisica, violencia_psiquica, violencia_genero, violencia_salud, resumen_hecho, descripcion_institucion, establecimiento, Unnamed: 16, year]\n",
       "Index: []"
      ]
     },
     "execution_count": 20,
     "metadata": {},
     "output_type": "execute_result"
    }
   ],
   "source": [
    "dataset[:0]"
   ]
  },
  {
   "cell_type": "markdown",
   "metadata": {},
   "source": [
    "---\n",
    "# Ejercicios"
   ]
  },
  {
   "cell_type": "markdown",
   "metadata": {},
   "source": [
    "### Ejercicio 1\n",
    "\n",
    "* Crear una imagen mostrando la distribución de los eventos por año\n",
    "\n",
    "* Construir una tabla de frecuencia de probabilidades dado el evento Y = ’año en el que ocurrió’\n",
    "\n",
    "$$fdp(Y)$$\n",
    "\n",
    "* Crear una imagen de dichas probabilidades con el gráfico que considere adecuado. ¿Son ambos gráficos iguales? ¿Cuál considera que es más útil?\n",
    "\n",
    "* ¿A qué se debe la forma de la distribución? ¿Qué tendencia muestra? ¿Ha aumentado la violencia institucional en los últimos años?\n",
    "\n",
    "* Calcular la función de distribución acumulada de la variable Y y graficarla. ¿Cuál es la probabilidad de que haya dado un acto de violencia antes del último cambio de gobierno?\n",
    "\n",
    "IMPORTANTE: ¿Qué hacemos con los datos faltantes?"
   ]
  },
  {
   "cell_type": "code",
   "execution_count": 179,
   "metadata": {},
   "outputs": [],
   "source": [
    "#fdp = dataset.groupby(by=['year']).size().sort_values(ascending=False)"
   ]
  },
  {
   "cell_type": "code",
   "execution_count": 180,
   "metadata": {},
   "outputs": [],
   "source": [
    "#seaborn.distplot(a=fdp, axlabel=\"year\")"
   ]
  },
  {
   "cell_type": "code",
   "execution_count": 181,
   "metadata": {},
   "outputs": [
    {
     "data": {
      "text/html": [
       "<div>\n",
       "<style scoped>\n",
       "    .dataframe tbody tr th:only-of-type {\n",
       "        vertical-align: middle;\n",
       "    }\n",
       "\n",
       "    .dataframe tbody tr th {\n",
       "        vertical-align: top;\n",
       "    }\n",
       "\n",
       "    .dataframe thead th {\n",
       "        text-align: right;\n",
       "    }\n",
       "</style>\n",
       "<table border=\"1\" class=\"dataframe\">\n",
       "  <thead>\n",
       "    <tr style=\"text-align: right;\">\n",
       "      <th></th>\n",
       "      <th>year</th>\n",
       "      <th>freq</th>\n",
       "    </tr>\n",
       "  </thead>\n",
       "  <tbody>\n",
       "    <tr>\n",
       "      <th>0</th>\n",
       "      <td>2016.0</td>\n",
       "      <td>297</td>\n",
       "    </tr>\n",
       "    <tr>\n",
       "      <th>1</th>\n",
       "      <td>2013.0</td>\n",
       "      <td>285</td>\n",
       "    </tr>\n",
       "    <tr>\n",
       "      <th>2</th>\n",
       "      <td>2014.0</td>\n",
       "      <td>241</td>\n",
       "    </tr>\n",
       "    <tr>\n",
       "      <th>3</th>\n",
       "      <td>2017.0</td>\n",
       "      <td>234</td>\n",
       "    </tr>\n",
       "    <tr>\n",
       "      <th>4</th>\n",
       "      <td>2015.0</td>\n",
       "      <td>87</td>\n",
       "    </tr>\n",
       "    <tr>\n",
       "      <th>5</th>\n",
       "      <td>2012.0</td>\n",
       "      <td>62</td>\n",
       "    </tr>\n",
       "    <tr>\n",
       "      <th>6</th>\n",
       "      <td>2010.0</td>\n",
       "      <td>21</td>\n",
       "    </tr>\n",
       "    <tr>\n",
       "      <th>7</th>\n",
       "      <td>2011.0</td>\n",
       "      <td>16</td>\n",
       "    </tr>\n",
       "    <tr>\n",
       "      <th>8</th>\n",
       "      <td>2009.0</td>\n",
       "      <td>10</td>\n",
       "    </tr>\n",
       "    <tr>\n",
       "      <th>9</th>\n",
       "      <td>2003.0</td>\n",
       "      <td>9</td>\n",
       "    </tr>\n",
       "    <tr>\n",
       "      <th>10</th>\n",
       "      <td>2002.0</td>\n",
       "      <td>7</td>\n",
       "    </tr>\n",
       "    <tr>\n",
       "      <th>11</th>\n",
       "      <td>2007.0</td>\n",
       "      <td>5</td>\n",
       "    </tr>\n",
       "    <tr>\n",
       "      <th>12</th>\n",
       "      <td>1990.0</td>\n",
       "      <td>5</td>\n",
       "    </tr>\n",
       "    <tr>\n",
       "      <th>13</th>\n",
       "      <td>2008.0</td>\n",
       "      <td>5</td>\n",
       "    </tr>\n",
       "    <tr>\n",
       "      <th>14</th>\n",
       "      <td>1991.0</td>\n",
       "      <td>5</td>\n",
       "    </tr>\n",
       "    <tr>\n",
       "      <th>15</th>\n",
       "      <td>2000.0</td>\n",
       "      <td>3</td>\n",
       "    </tr>\n",
       "    <tr>\n",
       "      <th>16</th>\n",
       "      <td>1994.0</td>\n",
       "      <td>3</td>\n",
       "    </tr>\n",
       "    <tr>\n",
       "      <th>17</th>\n",
       "      <td>2006.0</td>\n",
       "      <td>3</td>\n",
       "    </tr>\n",
       "    <tr>\n",
       "      <th>18</th>\n",
       "      <td>2005.0</td>\n",
       "      <td>3</td>\n",
       "    </tr>\n",
       "    <tr>\n",
       "      <th>19</th>\n",
       "      <td>2001.0</td>\n",
       "      <td>3</td>\n",
       "    </tr>\n",
       "    <tr>\n",
       "      <th>20</th>\n",
       "      <td>1993.0</td>\n",
       "      <td>2</td>\n",
       "    </tr>\n",
       "    <tr>\n",
       "      <th>21</th>\n",
       "      <td>1998.0</td>\n",
       "      <td>2</td>\n",
       "    </tr>\n",
       "    <tr>\n",
       "      <th>22</th>\n",
       "      <td>2004.0</td>\n",
       "      <td>2</td>\n",
       "    </tr>\n",
       "    <tr>\n",
       "      <th>23</th>\n",
       "      <td>1999.0</td>\n",
       "      <td>2</td>\n",
       "    </tr>\n",
       "    <tr>\n",
       "      <th>24</th>\n",
       "      <td>1989.0</td>\n",
       "      <td>1</td>\n",
       "    </tr>\n",
       "    <tr>\n",
       "      <th>25</th>\n",
       "      <td>1996.0</td>\n",
       "      <td>1</td>\n",
       "    </tr>\n",
       "    <tr>\n",
       "      <th>26</th>\n",
       "      <td>1997.0</td>\n",
       "      <td>1</td>\n",
       "    </tr>\n",
       "    <tr>\n",
       "      <th>27</th>\n",
       "      <td>1988.0</td>\n",
       "      <td>1</td>\n",
       "    </tr>\n",
       "  </tbody>\n",
       "</table>\n",
       "</div>"
      ],
      "text/plain": [
       "      year  freq\n",
       "0   2016.0   297\n",
       "1   2013.0   285\n",
       "2   2014.0   241\n",
       "3   2017.0   234\n",
       "4   2015.0    87\n",
       "5   2012.0    62\n",
       "6   2010.0    21\n",
       "7   2011.0    16\n",
       "8   2009.0    10\n",
       "9   2003.0     9\n",
       "10  2002.0     7\n",
       "11  2007.0     5\n",
       "12  1990.0     5\n",
       "13  2008.0     5\n",
       "14  1991.0     5\n",
       "15  2000.0     3\n",
       "16  1994.0     3\n",
       "17  2006.0     3\n",
       "18  2005.0     3\n",
       "19  2001.0     3\n",
       "20  1993.0     2\n",
       "21  1998.0     2\n",
       "22  2004.0     2\n",
       "23  1999.0     2\n",
       "24  1989.0     1\n",
       "25  1996.0     1\n",
       "26  1997.0     1\n",
       "27  1988.0     1"
      ]
     },
     "execution_count": 181,
     "metadata": {},
     "output_type": "execute_result"
    }
   ],
   "source": [
    "fdp = dataset.year.dropna()\n",
    "f = fdp.value_counts().reset_index(name='freq').rename(columns={'index': 'year'})\n",
    "f"
   ]
  },
  {
   "cell_type": "code",
   "execution_count": 182,
   "metadata": {},
   "outputs": [
    {
     "data": {
      "text/plain": [
       "<matplotlib.axes._subplots.AxesSubplot at 0x7fa69dd14dd8>"
      ]
     },
     "execution_count": 182,
     "metadata": {},
     "output_type": "execute_result"
    },
    {
     "data": {
      "image/png": "[encoded data removed]",
      "text/plain": [
       "<Figure size 432x288 with 1 Axes>"
      ]
     },
     "metadata": {},
     "output_type": "display_data"
    }
   ],
   "source": [
    "p = seaborn.barplot(x=f.year, y=f.freq)\n",
    "p.set_xticklabels(labels=f[\"year\"].value_counts().index.tolist(), rotation=90)\n",
    "p"
   ]
  },
  {
   "cell_type": "code",
   "execution_count": 183,
   "metadata": {},
   "outputs": [
    {
     "data": {
      "text/plain": [
       "2016.0    0.225684\n",
       "2013.0    0.216565\n",
       "2014.0    0.183131\n",
       "2017.0    0.177812\n",
       "2015.0    0.066109\n",
       "2012.0    0.047112\n",
       "2010.0    0.015957\n",
       "2011.0    0.012158\n",
       "2009.0    0.007599\n",
       "2003.0    0.006839\n",
       "2002.0    0.005319\n",
       "2007.0    0.003799\n",
       "1990.0    0.003799\n",
       "2008.0    0.003799\n",
       "1991.0    0.003799\n",
       "2000.0    0.002280\n",
       "1994.0    0.002280\n",
       "2006.0    0.002280\n",
       "2005.0    0.002280\n",
       "2001.0    0.002280\n",
       "1993.0    0.001520\n",
       "1998.0    0.001520\n",
       "2004.0    0.001520\n",
       "1999.0    0.001520\n",
       "1989.0    0.000760\n",
       "1996.0    0.000760\n",
       "1997.0    0.000760\n",
       "1988.0    0.000760\n",
       "Name: year, dtype: float64"
      ]
     },
     "execution_count": 183,
     "metadata": {},
     "output_type": "execute_result"
    }
   ],
   "source": [
    "fdp.value_counts(normalize=True)\n",
    "#dataset.groupby(by=['year'], as_index=False).count().value_counts(normalize=True)\n",
    "#fdp.sort_values(by=['year'], ascending=False)"
   ]
  },
  {
   "cell_type": "code",
   "execution_count": 193,
   "metadata": {},
   "outputs": [
    {
     "name": "stderr",
     "output_type": "stream",
     "text": [
      "/home/adrian/miniconda3/envs/diplodatos-ayv/lib/python3.5/site-packages/matplotlib/axes/_axes.py:6462: UserWarning: The 'normed' kwarg is deprecated, and has been replaced by the 'density' kwarg.\n",
      "  warnings.warn(\"The 'normed' kwarg is deprecated, and has been \"\n"
     ]
    },
    {
     "data": {
      "text/plain": [
       "<matplotlib.axes._subplots.AxesSubplot at 0x7fa69dca7400>"
      ]
     },
     "execution_count": 193,
     "metadata": {},
     "output_type": "execute_result"
    },
    {
     "data": {
      "image/png": "[encoded data removed]",
      "text/plain": [
       "<Figure size 432x288 with 1 Axes>"
      ]
     },
     "metadata": {},
     "output_type": "display_data"
    }
   ],
   "source": [
    "seaborn.distplot(a=fdp, axlabel=\"year\")"
   ]
  },
  {
   "cell_type": "code",
   "execution_count": 202,
   "metadata": {},
   "outputs": [
    {
     "data": {
      "text/html": [
       "<div>\n",
       "<style scoped>\n",
       "    .dataframe tbody tr th:only-of-type {\n",
       "        vertical-align: middle;\n",
       "    }\n",
       "\n",
       "    .dataframe tbody tr th {\n",
       "        vertical-align: top;\n",
       "    }\n",
       "\n",
       "    .dataframe thead th {\n",
       "        text-align: right;\n",
       "    }\n",
       "</style>\n",
       "<table border=\"1\" class=\"dataframe\">\n",
       "  <thead>\n",
       "    <tr style=\"text-align: right;\">\n",
       "      <th></th>\n",
       "      <th>year</th>\n",
       "      <th>cf</th>\n",
       "    </tr>\n",
       "  </thead>\n",
       "  <tbody>\n",
       "    <tr>\n",
       "      <th>0</th>\n",
       "      <td>1988.0</td>\n",
       "      <td>0.000760</td>\n",
       "    </tr>\n",
       "    <tr>\n",
       "      <th>1</th>\n",
       "      <td>1989.0</td>\n",
       "      <td>0.001520</td>\n",
       "    </tr>\n",
       "    <tr>\n",
       "      <th>2</th>\n",
       "      <td>1990.0</td>\n",
       "      <td>0.005319</td>\n",
       "    </tr>\n",
       "    <tr>\n",
       "      <th>3</th>\n",
       "      <td>1991.0</td>\n",
       "      <td>0.009119</td>\n",
       "    </tr>\n",
       "    <tr>\n",
       "      <th>4</th>\n",
       "      <td>1993.0</td>\n",
       "      <td>0.010638</td>\n",
       "    </tr>\n",
       "    <tr>\n",
       "      <th>5</th>\n",
       "      <td>1994.0</td>\n",
       "      <td>0.012918</td>\n",
       "    </tr>\n",
       "    <tr>\n",
       "      <th>6</th>\n",
       "      <td>1996.0</td>\n",
       "      <td>0.013678</td>\n",
       "    </tr>\n",
       "    <tr>\n",
       "      <th>7</th>\n",
       "      <td>1997.0</td>\n",
       "      <td>0.014438</td>\n",
       "    </tr>\n",
       "    <tr>\n",
       "      <th>8</th>\n",
       "      <td>1998.0</td>\n",
       "      <td>0.015957</td>\n",
       "    </tr>\n",
       "    <tr>\n",
       "      <th>9</th>\n",
       "      <td>1999.0</td>\n",
       "      <td>0.017477</td>\n",
       "    </tr>\n",
       "    <tr>\n",
       "      <th>10</th>\n",
       "      <td>2000.0</td>\n",
       "      <td>0.019757</td>\n",
       "    </tr>\n",
       "    <tr>\n",
       "      <th>11</th>\n",
       "      <td>2001.0</td>\n",
       "      <td>0.022036</td>\n",
       "    </tr>\n",
       "    <tr>\n",
       "      <th>12</th>\n",
       "      <td>2002.0</td>\n",
       "      <td>0.027356</td>\n",
       "    </tr>\n",
       "    <tr>\n",
       "      <th>13</th>\n",
       "      <td>2003.0</td>\n",
       "      <td>0.034195</td>\n",
       "    </tr>\n",
       "    <tr>\n",
       "      <th>14</th>\n",
       "      <td>2004.0</td>\n",
       "      <td>0.035714</td>\n",
       "    </tr>\n",
       "    <tr>\n",
       "      <th>15</th>\n",
       "      <td>2005.0</td>\n",
       "      <td>0.037994</td>\n",
       "    </tr>\n",
       "    <tr>\n",
       "      <th>16</th>\n",
       "      <td>2006.0</td>\n",
       "      <td>0.040274</td>\n",
       "    </tr>\n",
       "    <tr>\n",
       "      <th>17</th>\n",
       "      <td>2007.0</td>\n",
       "      <td>0.044073</td>\n",
       "    </tr>\n",
       "    <tr>\n",
       "      <th>18</th>\n",
       "      <td>2008.0</td>\n",
       "      <td>0.047872</td>\n",
       "    </tr>\n",
       "    <tr>\n",
       "      <th>19</th>\n",
       "      <td>2009.0</td>\n",
       "      <td>0.055471</td>\n",
       "    </tr>\n",
       "    <tr>\n",
       "      <th>20</th>\n",
       "      <td>2010.0</td>\n",
       "      <td>0.071429</td>\n",
       "    </tr>\n",
       "    <tr>\n",
       "      <th>21</th>\n",
       "      <td>2011.0</td>\n",
       "      <td>0.083587</td>\n",
       "    </tr>\n",
       "    <tr>\n",
       "      <th>22</th>\n",
       "      <td>2012.0</td>\n",
       "      <td>0.130699</td>\n",
       "    </tr>\n",
       "    <tr>\n",
       "      <th>23</th>\n",
       "      <td>2013.0</td>\n",
       "      <td>0.347264</td>\n",
       "    </tr>\n",
       "    <tr>\n",
       "      <th>24</th>\n",
       "      <td>2014.0</td>\n",
       "      <td>0.530395</td>\n",
       "    </tr>\n",
       "    <tr>\n",
       "      <th>25</th>\n",
       "      <td>2015.0</td>\n",
       "      <td>0.596505</td>\n",
       "    </tr>\n",
       "    <tr>\n",
       "      <th>26</th>\n",
       "      <td>2016.0</td>\n",
       "      <td>0.822188</td>\n",
       "    </tr>\n",
       "    <tr>\n",
       "      <th>27</th>\n",
       "      <td>2017.0</td>\n",
       "      <td>1.000000</td>\n",
       "    </tr>\n",
       "  </tbody>\n",
       "</table>\n",
       "</div>"
      ],
      "text/plain": [
       "      year        cf\n",
       "0   1988.0  0.000760\n",
       "1   1989.0  0.001520\n",
       "2   1990.0  0.005319\n",
       "3   1991.0  0.009119\n",
       "4   1993.0  0.010638\n",
       "5   1994.0  0.012918\n",
       "6   1996.0  0.013678\n",
       "7   1997.0  0.014438\n",
       "8   1998.0  0.015957\n",
       "9   1999.0  0.017477\n",
       "10  2000.0  0.019757\n",
       "11  2001.0  0.022036\n",
       "12  2002.0  0.027356\n",
       "13  2003.0  0.034195\n",
       "14  2004.0  0.035714\n",
       "15  2005.0  0.037994\n",
       "16  2006.0  0.040274\n",
       "17  2007.0  0.044073\n",
       "18  2008.0  0.047872\n",
       "19  2009.0  0.055471\n",
       "20  2010.0  0.071429\n",
       "21  2011.0  0.083587\n",
       "22  2012.0  0.130699\n",
       "23  2013.0  0.347264\n",
       "24  2014.0  0.530395\n",
       "25  2015.0  0.596505\n",
       "26  2016.0  0.822188\n",
       "27  2017.0  1.000000"
      ]
     },
     "execution_count": 202,
     "metadata": {},
     "output_type": "execute_result"
    }
   ],
   "source": [
    "cf = dataset.year.dropna()\n",
    "cf = cf.value_counts(normalize=True).sort_index().cumsum().reset_index(name='cf').rename(columns={'index': 'year'})\n",
    "cf"
   ]
  },
  {
   "cell_type": "code",
   "execution_count": 204,
   "metadata": {},
   "outputs": [
    {
     "data": {
      "text/plain": [
       "<matplotlib.axes._subplots.AxesSubplot at 0x7fa69da8f320>"
      ]
     },
     "execution_count": 204,
     "metadata": {},
     "output_type": "execute_result"
    },
    {
     "data": {
      "image/png": "[encoded data removed]",
      "text/plain": [
       "<Figure size 432x288 with 1 Axes>"
      ]
     },
     "metadata": {},
     "output_type": "display_data"
    }
   ],
   "source": [
    "cf_barplot = seaborn.barplot(x=cf.year, y=cf.cf)\n",
    "cf_barplot.set_xticklabels(labels=f[\"year\"].value_counts().index.tolist(), rotation=90)\n",
    "cf_barplot"
   ]
  },
  {
   "cell_type": "markdown",
   "metadata": {},
   "source": [
    "## Ejercicio 2\n",
    "\n",
    "* Construir una tabla de frecuencia de probabilidades dado el evento X = ’provincia donde se desarrollo el hecho’\n",
    "\n",
    "$$fdp(X)$$\n",
    "\n",
    "* ¿Qué información adicional es necesaria para mostrar estos datos de manera más adecuada?\n",
    "* Muestre la distribución de los eventos visualmente. ¿Qué tipo de gráfico es más adecuado para mostrar esta información?"
   ]
  },
  {
   "cell_type": "markdown",
   "metadata": {},
   "source": [
    "### Ejercicio 3\n",
    "\n",
    "* Construir una tabla de doble entrada donde se observen las función de distribución de probabilidades con las 2 variables aleatorias anteriores.\n",
    "¿Son eventos independientes?\n",
    "\n",
    "* Crear una imagen de dichas probabilidades con el gráfico que considere adecuado.\n"
   ]
  },
  {
   "cell_type": "markdown",
   "metadata": {},
   "source": [
    "## Ejercicio 4\n",
    "\n",
    "Dada la variable aleatoria Z = ’contexto1 en el que se produjo el hecho’, calcular la probabilidad que el hecho sea producido en una dependencia de una fuerza de seguridad (penal, comisaría, etc)\n",
    "\n",
    "$$ fdp(z=penal ~~ |~~  z=comisaria ~~ | ...) $$"
   ]
  },
  {
   "cell_type": "markdown",
   "metadata": {},
   "source": [
    "## Ejercicio 5\n",
    "\n",
    "Dada la variable aleatoria M = ‘existió violencia física’:\n",
    "* ¿Que probabilidad existe que también tenga violencia psíquica? N = ‘existió violencia psíquica’\n",
    "\n",
    "$$P(N~~|~~M)$$\n",
    "\n",
    "* ¿Qué conclusión se puede formular de los datos que tenemos y los datos que obtenemos de los métodos probabilísticos?\n",
    "* ¿Podemos concluir en que son eventos independientes dadas las muestras?"
   ]
  },
  {
   "cell_type": "code",
   "execution_count": null,
   "metadata": {
    "collapsed": true
   },
   "outputs": [],
   "source": []
  }
 ],
 "metadata": {
  "kernelspec": {
   "display_name": "Python [conda env:diplodatos-ayv]",
   "language": "python",
   "name": "conda-env-diplodatos-ayv-py"
  },
  "language_info": {
   "codemirror_mode": {
    "name": "ipython",
    "version": 3
   },
   "file_extension": ".py",
   "mimetype": "text/x-python",
   "name": "python",
   "nbconvert_exporter": "python",
   "pygments_lexer": "ipython3",
   "version": "3.5.5"
  }
 },
 "nbformat": 4,
 "nbformat_minor": 2
}
