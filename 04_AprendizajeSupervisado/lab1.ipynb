{
 "cells": [
  {
   "cell_type": "markdown",
   "metadata": {},
   "source": [
    "# Aprendizaje Supervisado: Laboratorio 1"
   ]
  },
  {
   "cell_type": "markdown",
   "metadata": {},
   "source": [
    "## Ejercicio 1: SVM con Kernel y Regularización\n",
    "\n",
    "En este ejercicio se trabajará con datos que esconden un patrón. Los datos mezclan columnas con valores enteros, flotantes y booleanos.\n",
    "\n",
    "Debe analizar los datos de entrenamiento para encontrar el patrón, y luego entrenar una SVM que explique a la perfección esos datos (accuracy 1.0 en train). Por último, deberá evaluar la SVM en los datos de test, y modificar los parámetros de regularización hasta encontrar una configuración que dé una accuracy mayor a 0.9."
   ]
  },
  {
   "cell_type": "code",
   "execution_count": 2,
   "metadata": {},
   "outputs": [],
   "source": [
    "# cargar datos de entrenamiento y evaluación\n",
    "import pandas as pd\n",
    "train = pd.read_csv('datasets/lab1/ej1_train.csv')\n",
    "X_train = train.iloc[:, :-1]\n",
    "Y_train = train['TARGET']\n",
    "test = pd.read_csv('datasets/lab1/ej1_test.csv')\n",
    "X_test = test.iloc[:, :-1]\n",
    "Y_test = test['TARGET']"
   ]
  },
  {
   "cell_type": "markdown",
   "metadata": {},
   "source": [
    "### Ejercicio 1a:"
   ]
  },
  {
   "cell_type": "markdown",
   "metadata": {},
   "source": [
    "Primero imprima una descripción básica de los datos."
   ]
  },
  {
   "cell_type": "code",
   "execution_count": 3,
   "metadata": {},
   "outputs": [
    {
     "data": {
      "text/html": [
       "<div>\n",
       "<style scoped>\n",
       "    .dataframe tbody tr th:only-of-type {\n",
       "        vertical-align: middle;\n",
       "    }\n",
       "\n",
       "    .dataframe tbody tr th {\n",
       "        vertical-align: top;\n",
       "    }\n",
       "\n",
       "    .dataframe thead th {\n",
       "        text-align: right;\n",
       "    }\n",
       "</style>\n",
       "<table border=\"1\" class=\"dataframe\">\n",
       "  <thead>\n",
       "    <tr style=\"text-align: right;\">\n",
       "      <th></th>\n",
       "      <th>0</th>\n",
       "      <th>1</th>\n",
       "      <th>2</th>\n",
       "      <th>3</th>\n",
       "      <th>4</th>\n",
       "      <th>5</th>\n",
       "      <th>6</th>\n",
       "      <th>7</th>\n",
       "      <th>8</th>\n",
       "      <th>9</th>\n",
       "      <th>10</th>\n",
       "      <th>11</th>\n",
       "      <th>12</th>\n",
       "      <th>13</th>\n",
       "      <th>14</th>\n",
       "      <th>15</th>\n",
       "      <th>16</th>\n",
       "      <th>TARGET</th>\n",
       "    </tr>\n",
       "  </thead>\n",
       "  <tbody>\n",
       "    <tr>\n",
       "      <th>0</th>\n",
       "      <td>-15.0</td>\n",
       "      <td>20.0</td>\n",
       "      <td>26.0</td>\n",
       "      <td>17.0</td>\n",
       "      <td>117.0</td>\n",
       "      <td>-1.099921</td>\n",
       "      <td>-0.366696</td>\n",
       "      <td>0.136307</td>\n",
       "      <td>-0.777322</td>\n",
       "      <td>0.0</td>\n",
       "      <td>0.0</td>\n",
       "      <td>0.0</td>\n",
       "      <td>0.0</td>\n",
       "      <td>1.0</td>\n",
       "      <td>0.0</td>\n",
       "      <td>0.0</td>\n",
       "      <td>0.0</td>\n",
       "      <td>-1.0</td>\n",
       "    </tr>\n",
       "    <tr>\n",
       "      <th>1</th>\n",
       "      <td>35.0</td>\n",
       "      <td>87.0</td>\n",
       "      <td>-17.0</td>\n",
       "      <td>54.0</td>\n",
       "      <td>38.0</td>\n",
       "      <td>-0.507798</td>\n",
       "      <td>-0.774667</td>\n",
       "      <td>-0.879107</td>\n",
       "      <td>-1.159231</td>\n",
       "      <td>0.0</td>\n",
       "      <td>1.0</td>\n",
       "      <td>0.0</td>\n",
       "      <td>0.0</td>\n",
       "      <td>0.0</td>\n",
       "      <td>0.0</td>\n",
       "      <td>0.0</td>\n",
       "      <td>0.0</td>\n",
       "      <td>-1.0</td>\n",
       "    </tr>\n",
       "    <tr>\n",
       "      <th>2</th>\n",
       "      <td>82.0</td>\n",
       "      <td>75.0</td>\n",
       "      <td>116.0</td>\n",
       "      <td>87.0</td>\n",
       "      <td>130.0</td>\n",
       "      <td>-0.219868</td>\n",
       "      <td>0.157875</td>\n",
       "      <td>0.386982</td>\n",
       "      <td>0.150254</td>\n",
       "      <td>0.0</td>\n",
       "      <td>0.0</td>\n",
       "      <td>0.0</td>\n",
       "      <td>0.0</td>\n",
       "      <td>0.0</td>\n",
       "      <td>1.0</td>\n",
       "      <td>0.0</td>\n",
       "      <td>0.0</td>\n",
       "      <td>1.0</td>\n",
       "    </tr>\n",
       "    <tr>\n",
       "      <th>3</th>\n",
       "      <td>133.0</td>\n",
       "      <td>138.0</td>\n",
       "      <td>87.0</td>\n",
       "      <td>124.0</td>\n",
       "      <td>61.0</td>\n",
       "      <td>0.371992</td>\n",
       "      <td>-0.157556</td>\n",
       "      <td>-0.484258</td>\n",
       "      <td>-0.109378</td>\n",
       "      <td>0.0</td>\n",
       "      <td>0.0</td>\n",
       "      <td>1.0</td>\n",
       "      <td>0.0</td>\n",
       "      <td>0.0</td>\n",
       "      <td>0.0</td>\n",
       "      <td>0.0</td>\n",
       "      <td>0.0</td>\n",
       "      <td>-1.0</td>\n",
       "    </tr>\n",
       "    <tr>\n",
       "      <th>4</th>\n",
       "      <td>-17.0</td>\n",
       "      <td>23.0</td>\n",
       "      <td>17.0</td>\n",
       "      <td>16.0</td>\n",
       "      <td>109.0</td>\n",
       "      <td>-1.099966</td>\n",
       "      <td>-0.436268</td>\n",
       "      <td>0.028073</td>\n",
       "      <td>-0.869315</td>\n",
       "      <td>0.0</td>\n",
       "      <td>0.0</td>\n",
       "      <td>0.0</td>\n",
       "      <td>1.0</td>\n",
       "      <td>0.0</td>\n",
       "      <td>0.0</td>\n",
       "      <td>0.0</td>\n",
       "      <td>0.0</td>\n",
       "      <td>-1.0</td>\n",
       "    </tr>\n",
       "  </tbody>\n",
       "</table>\n",
       "</div>"
      ],
      "text/plain": [
       "       0      1      2      3      4         5         6         7         8  \\\n",
       "0  -15.0   20.0   26.0   17.0  117.0 -1.099921 -0.366696  0.136307 -0.777322   \n",
       "1   35.0   87.0  -17.0   54.0   38.0 -0.507798 -0.774667 -0.879107 -1.159231   \n",
       "2   82.0   75.0  116.0   87.0  130.0 -0.219868  0.157875  0.386982  0.150254   \n",
       "3  133.0  138.0   87.0  124.0   61.0  0.371992 -0.157556 -0.484258 -0.109378   \n",
       "4  -17.0   23.0   17.0   16.0  109.0 -1.099966 -0.436268  0.028073 -0.869315   \n",
       "\n",
       "     9   10   11   12   13   14   15   16  TARGET  \n",
       "0  0.0  0.0  0.0  0.0  1.0  0.0  0.0  0.0    -1.0  \n",
       "1  0.0  1.0  0.0  0.0  0.0  0.0  0.0  0.0    -1.0  \n",
       "2  0.0  0.0  0.0  0.0  0.0  1.0  0.0  0.0     1.0  \n",
       "3  0.0  0.0  1.0  0.0  0.0  0.0  0.0  0.0    -1.0  \n",
       "4  0.0  0.0  0.0  1.0  0.0  0.0  0.0  0.0    -1.0  "
      ]
     },
     "metadata": {},
     "output_type": "display_data"
    },
    {
     "name": "stdout",
     "output_type": "stream",
     "text": [
      "<class 'pandas.core.frame.DataFrame'>\n",
      "RangeIndex: 400 entries, 0 to 399\n",
      "Data columns (total 18 columns):\n",
      "0         400 non-null float64\n",
      "1         400 non-null float64\n",
      "2         400 non-null float64\n",
      "3         400 non-null float64\n",
      "4         400 non-null float64\n",
      "5         400 non-null float64\n",
      "6         400 non-null float64\n",
      "7         400 non-null float64\n",
      "8         400 non-null float64\n",
      "9         400 non-null float64\n",
      "10        400 non-null float64\n",
      "11        400 non-null float64\n",
      "12        400 non-null float64\n",
      "13        400 non-null float64\n",
      "14        400 non-null float64\n",
      "15        400 non-null float64\n",
      "16        400 non-null float64\n",
      "TARGET    400 non-null float64\n",
      "dtypes: float64(18)\n",
      "memory usage: 56.3 KB\n"
     ]
    },
    {
     "data": {
      "text/plain": [
       "None"
      ]
     },
     "metadata": {},
     "output_type": "display_data"
    },
    {
     "data": {
      "text/plain": [
       "-1.0    201\n",
       " 1.0    199\n",
       "Name: TARGET, dtype: int64"
      ]
     },
     "metadata": {},
     "output_type": "display_data"
    },
    {
     "data": {
      "text/html": [
       "<div>\n",
       "<style scoped>\n",
       "    .dataframe tbody tr th:only-of-type {\n",
       "        vertical-align: middle;\n",
       "    }\n",
       "\n",
       "    .dataframe tbody tr th {\n",
       "        vertical-align: top;\n",
       "    }\n",
       "\n",
       "    .dataframe thead th {\n",
       "        text-align: right;\n",
       "    }\n",
       "</style>\n",
       "<table border=\"1\" class=\"dataframe\">\n",
       "  <thead>\n",
       "    <tr style=\"text-align: right;\">\n",
       "      <th></th>\n",
       "      <th>0</th>\n",
       "      <th>1</th>\n",
       "      <th>2</th>\n",
       "      <th>3</th>\n",
       "      <th>4</th>\n",
       "      <th>5</th>\n",
       "      <th>6</th>\n",
       "      <th>7</th>\n",
       "      <th>8</th>\n",
       "      <th>9</th>\n",
       "      <th>10</th>\n",
       "      <th>11</th>\n",
       "      <th>12</th>\n",
       "      <th>13</th>\n",
       "      <th>14</th>\n",
       "      <th>15</th>\n",
       "      <th>16</th>\n",
       "    </tr>\n",
       "  </thead>\n",
       "  <tbody>\n",
       "    <tr>\n",
       "      <th>count</th>\n",
       "      <td>400.000000</td>\n",
       "      <td>400.000000</td>\n",
       "      <td>400.000000</td>\n",
       "      <td>400.000000</td>\n",
       "      <td>400.000000</td>\n",
       "      <td>400.000000</td>\n",
       "      <td>400.000000</td>\n",
       "      <td>400.000000</td>\n",
       "      <td>400.000000</td>\n",
       "      <td>400.00000</td>\n",
       "      <td>400.00000</td>\n",
       "      <td>400.000000</td>\n",
       "      <td>400.000000</td>\n",
       "      <td>400.000000</td>\n",
       "      <td>400.000000</td>\n",
       "      <td>400.000000</td>\n",
       "      <td>400.000000</td>\n",
       "    </tr>\n",
       "    <tr>\n",
       "      <th>mean</th>\n",
       "      <td>100.567500</td>\n",
       "      <td>101.035000</td>\n",
       "      <td>98.930000</td>\n",
       "      <td>100.445000</td>\n",
       "      <td>98.487500</td>\n",
       "      <td>0.007970</td>\n",
       "      <td>-0.009065</td>\n",
       "      <td>-0.019228</td>\n",
       "      <td>-0.009865</td>\n",
       "      <td>0.03500</td>\n",
       "      <td>0.08750</td>\n",
       "      <td>0.172500</td>\n",
       "      <td>0.237500</td>\n",
       "      <td>0.220000</td>\n",
       "      <td>0.132500</td>\n",
       "      <td>0.075000</td>\n",
       "      <td>0.040000</td>\n",
       "    </tr>\n",
       "    <tr>\n",
       "      <th>std</th>\n",
       "      <td>86.549654</td>\n",
       "      <td>49.517155</td>\n",
       "      <td>91.403921</td>\n",
       "      <td>62.199267</td>\n",
       "      <td>36.299366</td>\n",
       "      <td>0.782708</td>\n",
       "      <td>0.560037</td>\n",
       "      <td>0.514925</td>\n",
       "      <td>0.924287</td>\n",
       "      <td>0.18401</td>\n",
       "      <td>0.28292</td>\n",
       "      <td>0.378288</td>\n",
       "      <td>0.426084</td>\n",
       "      <td>0.414765</td>\n",
       "      <td>0.339458</td>\n",
       "      <td>0.263721</td>\n",
       "      <td>0.196205</td>\n",
       "    </tr>\n",
       "    <tr>\n",
       "      <th>min</th>\n",
       "      <td>-93.000000</td>\n",
       "      <td>-10.000000</td>\n",
       "      <td>-115.000000</td>\n",
       "      <td>-39.000000</td>\n",
       "      <td>11.000000</td>\n",
       "      <td>-1.725988</td>\n",
       "      <td>-1.300851</td>\n",
       "      <td>-1.244842</td>\n",
       "      <td>-2.168412</td>\n",
       "      <td>0.00000</td>\n",
       "      <td>0.00000</td>\n",
       "      <td>0.000000</td>\n",
       "      <td>0.000000</td>\n",
       "      <td>0.000000</td>\n",
       "      <td>0.000000</td>\n",
       "      <td>0.000000</td>\n",
       "      <td>0.000000</td>\n",
       "    </tr>\n",
       "    <tr>\n",
       "      <th>25%</th>\n",
       "      <td>46.000000</td>\n",
       "      <td>73.000000</td>\n",
       "      <td>37.500000</td>\n",
       "      <td>61.750000</td>\n",
       "      <td>73.000000</td>\n",
       "      <td>-0.488926</td>\n",
       "      <td>-0.366255</td>\n",
       "      <td>-0.382066</td>\n",
       "      <td>-0.646990</td>\n",
       "      <td>0.00000</td>\n",
       "      <td>0.00000</td>\n",
       "      <td>0.000000</td>\n",
       "      <td>0.000000</td>\n",
       "      <td>0.000000</td>\n",
       "      <td>0.000000</td>\n",
       "      <td>0.000000</td>\n",
       "      <td>0.000000</td>\n",
       "    </tr>\n",
       "    <tr>\n",
       "      <th>50%</th>\n",
       "      <td>100.500000</td>\n",
       "      <td>100.000000</td>\n",
       "      <td>100.000000</td>\n",
       "      <td>100.000000</td>\n",
       "      <td>99.500000</td>\n",
       "      <td>0.005970</td>\n",
       "      <td>-0.010120</td>\n",
       "      <td>-0.013890</td>\n",
       "      <td>0.000883</td>\n",
       "      <td>0.00000</td>\n",
       "      <td>0.00000</td>\n",
       "      <td>0.000000</td>\n",
       "      <td>0.000000</td>\n",
       "      <td>0.000000</td>\n",
       "      <td>0.000000</td>\n",
       "      <td>0.000000</td>\n",
       "      <td>0.000000</td>\n",
       "    </tr>\n",
       "    <tr>\n",
       "      <th>75%</th>\n",
       "      <td>155.250000</td>\n",
       "      <td>133.250000</td>\n",
       "      <td>153.250000</td>\n",
       "      <td>140.000000</td>\n",
       "      <td>122.000000</td>\n",
       "      <td>0.510675</td>\n",
       "      <td>0.314739</td>\n",
       "      <td>0.300218</td>\n",
       "      <td>0.544438</td>\n",
       "      <td>0.00000</td>\n",
       "      <td>0.00000</td>\n",
       "      <td>0.000000</td>\n",
       "      <td>0.000000</td>\n",
       "      <td>0.000000</td>\n",
       "      <td>0.000000</td>\n",
       "      <td>0.000000</td>\n",
       "      <td>0.000000</td>\n",
       "    </tr>\n",
       "    <tr>\n",
       "      <th>max</th>\n",
       "      <td>299.000000</td>\n",
       "      <td>217.000000</td>\n",
       "      <td>323.000000</td>\n",
       "      <td>243.000000</td>\n",
       "      <td>185.000000</td>\n",
       "      <td>1.785821</td>\n",
       "      <td>1.369928</td>\n",
       "      <td>1.217912</td>\n",
       "      <td>2.240643</td>\n",
       "      <td>1.00000</td>\n",
       "      <td>1.00000</td>\n",
       "      <td>1.000000</td>\n",
       "      <td>1.000000</td>\n",
       "      <td>1.000000</td>\n",
       "      <td>1.000000</td>\n",
       "      <td>1.000000</td>\n",
       "      <td>1.000000</td>\n",
       "    </tr>\n",
       "  </tbody>\n",
       "</table>\n",
       "</div>"
      ],
      "text/plain": [
       "                0           1           2           3           4           5  \\\n",
       "count  400.000000  400.000000  400.000000  400.000000  400.000000  400.000000   \n",
       "mean   100.567500  101.035000   98.930000  100.445000   98.487500    0.007970   \n",
       "std     86.549654   49.517155   91.403921   62.199267   36.299366    0.782708   \n",
       "min    -93.000000  -10.000000 -115.000000  -39.000000   11.000000   -1.725988   \n",
       "25%     46.000000   73.000000   37.500000   61.750000   73.000000   -0.488926   \n",
       "50%    100.500000  100.000000  100.000000  100.000000   99.500000    0.005970   \n",
       "75%    155.250000  133.250000  153.250000  140.000000  122.000000    0.510675   \n",
       "max    299.000000  217.000000  323.000000  243.000000  185.000000    1.785821   \n",
       "\n",
       "                6           7           8          9         10          11  \\\n",
       "count  400.000000  400.000000  400.000000  400.00000  400.00000  400.000000   \n",
       "mean    -0.009065   -0.019228   -0.009865    0.03500    0.08750    0.172500   \n",
       "std      0.560037    0.514925    0.924287    0.18401    0.28292    0.378288   \n",
       "min     -1.300851   -1.244842   -2.168412    0.00000    0.00000    0.000000   \n",
       "25%     -0.366255   -0.382066   -0.646990    0.00000    0.00000    0.000000   \n",
       "50%     -0.010120   -0.013890    0.000883    0.00000    0.00000    0.000000   \n",
       "75%      0.314739    0.300218    0.544438    0.00000    0.00000    0.000000   \n",
       "max      1.369928    1.217912    2.240643    1.00000    1.00000    1.000000   \n",
       "\n",
       "               12          13          14          15          16  \n",
       "count  400.000000  400.000000  400.000000  400.000000  400.000000  \n",
       "mean     0.237500    0.220000    0.132500    0.075000    0.040000  \n",
       "std      0.426084    0.414765    0.339458    0.263721    0.196205  \n",
       "min      0.000000    0.000000    0.000000    0.000000    0.000000  \n",
       "25%      0.000000    0.000000    0.000000    0.000000    0.000000  \n",
       "50%      0.000000    0.000000    0.000000    0.000000    0.000000  \n",
       "75%      0.000000    0.000000    0.000000    0.000000    0.000000  \n",
       "max      1.000000    1.000000    1.000000    1.000000    1.000000  "
      ]
     },
     "metadata": {},
     "output_type": "display_data"
    }
   ],
   "source": [
    "display(train.head())\n",
    "display(train.info())\n",
    "display(Y_train.value_counts())\n",
    "display(X_train.describe())"
   ]
  },
  {
   "cell_type": "markdown",
   "metadata": {},
   "source": [
    "Luego, calcule y grafique un mapa de calor con la correlación entre los distintos features."
   ]
  },
  {
   "cell_type": "code",
   "execution_count": 4,
   "metadata": {},
   "outputs": [
    {
     "data": {
      "image/png": "[encoded data removed]",
      "text/plain": [
       "<Figure size 1080x720 with 2 Axes>"
      ]
     },
     "metadata": {},
     "output_type": "display_data"
    }
   ],
   "source": [
    "# COMPLETAR: calcular y graficar correlación entre features\n",
    "# AYUDA: https://www.kaggle.com/pierra/credit-card-dataset-svm-classification\n",
    "import matplotlib.pyplot as plt\n",
    "import seaborn\n",
    "X_corr = X_train.corr()\n",
    "plt.figure(figsize=(15,10))\n",
    "seaborn.heatmap(X_corr, cmap=\"YlGnBu\") # Displaying the Heatmap\n",
    "seaborn.set(font_scale=2,style='white')\n",
    "\n",
    "plt.title('Heatmap correlation')\n",
    "plt.show()"
   ]
  },
  {
   "cell_type": "markdown",
   "metadata": {},
   "source": [
    "**Preguntas:**\n",
    "- ¿Qué observa?\n",
    "\n",
    "Segun el heatmap, claramente se observa que existe una correlacion de las features entre la 0 y la 8\n",
    "- ¿Qué conclusiones puede extraer?\n",
    "\n",
    "Dada la redundancia que introducen las features entre la 0 y la 8, seria de valor para la construccion de nuestro \n",
    "modelo el uso de las features desde la 8 hasta la 16\n",
    "\n",
    "- Por último, reduzca la dimensionalidad de los datos a dos dimensiones y grafique los puntos."
   ]
  },
  {
   "cell_type": "code",
   "execution_count": 16,
   "metadata": {},
   "outputs": [
    {
     "data": {
      "text/html": [
       "<div>\n",
       "<style scoped>\n",
       "    .dataframe tbody tr th:only-of-type {\n",
       "        vertical-align: middle;\n",
       "    }\n",
       "\n",
       "    .dataframe tbody tr th {\n",
       "        vertical-align: top;\n",
       "    }\n",
       "\n",
       "    .dataframe thead th {\n",
       "        text-align: right;\n",
       "    }\n",
       "</style>\n",
       "<table border=\"1\" class=\"dataframe\">\n",
       "  <thead>\n",
       "    <tr style=\"text-align: right;\">\n",
       "      <th></th>\n",
       "      <th>0</th>\n",
       "      <th>1</th>\n",
       "      <th>TARGET</th>\n",
       "    </tr>\n",
       "  </thead>\n",
       "  <tbody>\n",
       "    <tr>\n",
       "      <th>0</th>\n",
       "      <td>-169.452309</td>\n",
       "      <td>61.923209</td>\n",
       "      <td>-1.0</td>\n",
       "    </tr>\n",
       "    <tr>\n",
       "      <th>1</th>\n",
       "      <td>-140.637635</td>\n",
       "      <td>-63.051982</td>\n",
       "      <td>-1.0</td>\n",
       "    </tr>\n",
       "    <tr>\n",
       "      <th>2</th>\n",
       "      <td>-9.971975</td>\n",
       "      <td>48.867243</td>\n",
       "      <td>1.0</td>\n",
       "    </tr>\n",
       "    <tr>\n",
       "      <th>3</th>\n",
       "      <td>28.025112</td>\n",
       "      <td>-61.117568</td>\n",
       "      <td>-1.0</td>\n",
       "    </tr>\n",
       "    <tr>\n",
       "      <th>4</th>\n",
       "      <td>-176.649479</td>\n",
       "      <td>51.593234</td>\n",
       "      <td>-1.0</td>\n",
       "    </tr>\n",
       "  </tbody>\n",
       "</table>\n",
       "</div>"
      ],
      "text/plain": [
       "            0          1  TARGET\n",
       "0 -169.452309  61.923209    -1.0\n",
       "1 -140.637635 -63.051982    -1.0\n",
       "2   -9.971975  48.867243     1.0\n",
       "3   28.025112 -61.117568    -1.0\n",
       "4 -176.649479  51.593234    -1.0"
      ]
     },
     "metadata": {},
     "output_type": "display_data"
    },
    {
     "data": {
      "text/plain": [
       "(400, 3)"
      ]
     },
     "metadata": {},
     "output_type": "display_data"
    },
    {
     "data": {
      "image/png": "[encoded data removed]",
      "text/plain": [
       "<Figure size 720x720 with 1 Axes>"
      ]
     },
     "metadata": {},
     "output_type": "display_data"
    }
   ],
   "source": [
    "# COMPLETAR: reducir dimensionalidad y graficar\n",
    "from sklearn.decomposition import PCA\n",
    "pca = PCA(n_components=2)\n",
    "X_train_pca = pca.fit_transform(X_train)\n",
    "X_train_pca_df = pd.DataFrame(data = X_train_pca, columns = ['0', '1'])\n",
    "train_pca_df = pd.concat([X_train_pca_df, Y_train], axis=1)\n",
    "display(train_pca_df.head())\n",
    "display(train_pca_df.shape)\n",
    "\n",
    "plt.figure(figsize=(10, 10))\n",
    "plt.scatter(x=train_pca_df['0'], y=train_pca_df['1'], c=train_pca_df['TARGET'])\n",
    "plt.show()"
   ]
  },
  {
   "cell_type": "markdown",
   "metadata": {},
   "source": [
    "**Preguntas:**\n",
    "- ¿Qué observa?\n",
    "\n",
    "Despues de aplicar PCA se puede observar en el scaterplot que existen dos conjuntos de datos bien definidos no linealmente separables.\n",
    "- ¿Qué conclusiones puede extraer?\n",
    "\n",
    "En principio, por como estan distribuidos los datos, pareciera que los 2 conjuntos pueden separarse por un hiperplano en la 3era dimension. Se propone usar una SVM"
   ]
  },
  {
   "cell_type": "markdown",
   "metadata": {},
   "source": [
    "### Ejercico 1b:"
   ]
  },
  {
   "cell_type": "markdown",
   "metadata": {},
   "source": [
    "Primero calcule la accuracy sobre train para una SVM con kernel lineal."
   ]
  },
  {
   "cell_type": "code",
   "execution_count": 40,
   "metadata": {},
   "outputs": [
    {
     "name": "stdout",
     "output_type": "stream",
     "text": [
      "Accuracy en train:\t 0.5075\n",
      "Accuracy en test:\t 0.4\n"
     ]
    }
   ],
   "source": [
    "from sklearn.svm import LinearSVC, SVC\n",
    "from sklearn.metrics import accuracy_score\n",
    "large_prime = 15485863\n",
    "clf = LinearSVC(random_state=large_prime)\n",
    "clf.fit(X_train, Y_train)\n",
    "Y_pred = clf.predict(X_train)\n",
    "print('Accuracy en train:\\t', accuracy_score(Y_train, Y_pred))\n",
    "Y_pred = clf.predict(X_test)\n",
    "print('Accuracy en test:\\t', accuracy_score(Y_test, Y_pred))"
   ]
  },
  {
   "cell_type": "markdown",
   "metadata": {},
   "source": [
    "**Preguntas:**\n",
    "- ¿Cuál es la accuracy?\n",
    "\n",
    "La accuracy es de 50.75%\n",
    "- ¿Qué problema tiene el modelo? ¿De sesgo (bias) o de varianza?\n",
    "\n",
    "El modelo sufre de sesgo. Claramente el problema de ser conjuntos no linealmente separables trae dificultades al kernel lineal de la SVM para separarlos y se puede ver al modelo haciendo underfitting.\n",
    "\n",
    "- Modifique la SVM para lograr una accuracy en train de 1.0.\n",
    "\n",
    "Se propone usar una SVM con kernel Radial Basis (rbf)"
   ]
  },
  {
   "cell_type": "code",
   "execution_count": 41,
   "metadata": {},
   "outputs": [
    {
     "name": "stdout",
     "output_type": "stream",
     "text": [
      "Accuracy en train:\t 1.0\n",
      "Accuracy en test:\t 0.7\n"
     ]
    }
   ],
   "source": [
    "clf = SVC(random_state=large_prime)\n",
    "clf.fit(X_train, Y_train)\n",
    "Y_pred = clf.predict(X_train)\n",
    "print('Accuracy en train:\\t', accuracy_score(Y_train, Y_pred))\n",
    "Y_pred = clf.predict(X_test)\n",
    "print('Accuracy en test:\\t', accuracy_score(Y_test, Y_pred))"
   ]
  },
  {
   "cell_type": "markdown",
   "metadata": {},
   "source": [
    "### Ejercicio 1c:"
   ]
  },
  {
   "cell_type": "markdown",
   "metadata": {},
   "source": [
    "Evalúe la SVM del ítem anterior sobre los datos de test."
   ]
  },
  {
   "cell_type": "code",
   "execution_count": 44,
   "metadata": {},
   "outputs": [
    {
     "name": "stdout",
     "output_type": "stream",
     "text": [
      "Accuracy en train:\t 0.5075\n",
      "Accuracy en test:\t 0.4\n"
     ]
    }
   ],
   "source": [
    "clf = LinearSVC(random_state=large_prime)\n",
    "clf.fit(X_train, Y_train)\n",
    "Y_pred = clf.predict(X_train)\n",
    "print('Accuracy en train:\\t', accuracy_score(Y_train, Y_pred))\n",
    "Y_pred = clf.predict(X_test)\n",
    "print('Accuracy en test:\\t', accuracy_score(Y_test, Y_pred))"
   ]
  },
  {
   "cell_type": "code",
   "execution_count": 45,
   "metadata": {},
   "outputs": [
    {
     "name": "stdout",
     "output_type": "stream",
     "text": [
      "Accuracy en train:\t 1.0\n",
      "Accuracy en test:\t 0.7\n"
     ]
    }
   ],
   "source": [
    "clf = SVC(random_state=large_prime)\n",
    "clf.fit(X_train, Y_train)\n",
    "Y_pred = clf.predict(X_train)\n",
    "print('Accuracy en train:\\t', accuracy_score(Y_train, Y_pred))\n",
    "Y_pred = clf.predict(X_test)\n",
    "print('Accuracy en test:\\t', accuracy_score(Y_test, Y_pred))"
   ]
  },
  {
   "cell_type": "markdown",
   "metadata": {},
   "source": [
    "**Preguntas:**\n",
    "- ¿Cuál es la accuracy en test?\n",
    "\n",
    "La accuracy en test con kernel lineal es de 40%, con kernel RBF es de 70%\n",
    "- ¿Qué problema tiene el modelo? ¿De sesgo (bias) o de varianza?\n",
    "\n",
    "En el caso de la SVM con kernel RBF se ve un problema de varianza, claramente el modelo se aprendio los datos de entrenamiento \"de memoria\" lo que se ve reflejado en la accuracy del 100% en train, sin embargo tiene poca precision para los datos de test.\n",
    "\n",
    "- Modifique parámetros de la SVM para lograr una accuracy en test mayor a 0.9. La accuracy en train puede ser menos de 1.0.\n",
    "\n",
    "(Puede buscar los valores apropiados a mano o usar grid search.)"
   ]
  },
  {
   "cell_type": "code",
   "execution_count": 51,
   "metadata": {},
   "outputs": [
    {
     "name": "stdout",
     "output_type": "stream",
     "text": [
      "Accuracy en train:\t 0.95\n",
      "Accuracy en test:\t 0.91\n",
      "{'C': 1000, 'gamma': 0.0001, 'kernel': 'rbf'}\n"
     ]
    }
   ],
   "source": [
    "from sklearn.model_selection import GridSearchCV\n",
    "\n",
    "param_grid = {'C': [1, 10, 100, 1000], 'gamma': [0.001, 0.0001], 'kernel': ['rbf']}\n",
    "\n",
    "grid_search = GridSearchCV(estimator=SVC(random_state=large_prime), param_grid=param_grid, scoring='accuracy', cv=5)\n",
    "grid_search.fit(X_train, Y_train)\n",
    "\n",
    "Y_pred = grid_search.predict(X_train)\n",
    "print('Accuracy en train:\\t', accuracy_score(Y_train, Y_pred))\n",
    "Y_pred = grid_search.predict(X_test)\n",
    "print('Accuracy en test:\\t', accuracy_score(Y_test, Y_pred))\n",
    "print(grid_search.best_params_)"
   ]
  },
  {
   "cell_type": "markdown",
   "metadata": {},
   "source": [
    "## Ejercicio 2: Revisitando el Titanic\n",
    "\n",
    "Este ejercicio se basa en el siguiente análisis de datos visto en clase:\n",
    "\n",
    "- https://www.kaggle.com/zlatankr/titanic-random-forest-82-78/notebook\n",
    "\n",
    "Aquí, se logra entrenar una Random Forest con un out-of-bag score de 0.8294.\n"
   ]
  },
  {
   "cell_type": "markdown",
   "metadata": {},
   "source": [
    "### Ejercicio 2a:\n",
    "\n",
    "El objetivo de este ejercicio es ver cuánto da el score si no se quiere hacer ninguna preparación de los datos.\n",
    "\n",
    "Para esto, deben eliminarse las columnas que no tienen datos numéricos y las que tienen datos incompletos, ya que los algoritmos de aprendizaje automático no saben lidiar con ellos."
   ]
  },
  {
   "cell_type": "code",
   "execution_count": 56,
   "metadata": {},
   "outputs": [
    {
     "name": "stdout",
     "output_type": "stream",
     "text": [
      "<class 'pandas.core.frame.DataFrame'>\n",
      "RangeIndex: 891 entries, 0 to 890\n",
      "Data columns (total 12 columns):\n",
      "PassengerId    891 non-null int64\n",
      "Survived       891 non-null int64\n",
      "Pclass         891 non-null int64\n",
      "Name           891 non-null object\n",
      "Sex            891 non-null object\n",
      "Age            714 non-null float64\n",
      "SibSp          891 non-null int64\n",
      "Parch          891 non-null int64\n",
      "Ticket         891 non-null object\n",
      "Fare           891 non-null float64\n",
      "Cabin          204 non-null object\n",
      "Embarked       889 non-null object\n",
      "dtypes: float64(2), int64(5), object(5)\n",
      "memory usage: 83.6+ KB\n"
     ]
    },
    {
     "data": {
      "text/plain": [
       "None"
      ]
     },
     "metadata": {},
     "output_type": "display_data"
    },
    {
     "data": {
      "text/html": [
       "<div>\n",
       "<style scoped>\n",
       "    .dataframe tbody tr th:only-of-type {\n",
       "        vertical-align: middle;\n",
       "    }\n",
       "\n",
       "    .dataframe tbody tr th {\n",
       "        vertical-align: top;\n",
       "    }\n",
       "\n",
       "    .dataframe thead th {\n",
       "        text-align: right;\n",
       "    }\n",
       "</style>\n",
       "<table border=\"1\" class=\"dataframe\">\n",
       "  <thead>\n",
       "    <tr style=\"text-align: right;\">\n",
       "      <th></th>\n",
       "      <th>PassengerId</th>\n",
       "      <th>Survived</th>\n",
       "      <th>Pclass</th>\n",
       "      <th>Name</th>\n",
       "      <th>Sex</th>\n",
       "      <th>Age</th>\n",
       "      <th>SibSp</th>\n",
       "      <th>Parch</th>\n",
       "      <th>Ticket</th>\n",
       "      <th>Fare</th>\n",
       "      <th>Cabin</th>\n",
       "      <th>Embarked</th>\n",
       "    </tr>\n",
       "  </thead>\n",
       "  <tbody>\n",
       "    <tr>\n",
       "      <th>0</th>\n",
       "      <td>1</td>\n",
       "      <td>0</td>\n",
       "      <td>3</td>\n",
       "      <td>Braund, Mr. Owen Harris</td>\n",
       "      <td>male</td>\n",
       "      <td>22.0</td>\n",
       "      <td>1</td>\n",
       "      <td>0</td>\n",
       "      <td>A/5 21171</td>\n",
       "      <td>7.2500</td>\n",
       "      <td>NaN</td>\n",
       "      <td>S</td>\n",
       "    </tr>\n",
       "    <tr>\n",
       "      <th>1</th>\n",
       "      <td>2</td>\n",
       "      <td>1</td>\n",
       "      <td>1</td>\n",
       "      <td>Cumings, Mrs. John Bradley (Florence Briggs Th...</td>\n",
       "      <td>female</td>\n",
       "      <td>38.0</td>\n",
       "      <td>1</td>\n",
       "      <td>0</td>\n",
       "      <td>PC 17599</td>\n",
       "      <td>71.2833</td>\n",
       "      <td>C85</td>\n",
       "      <td>C</td>\n",
       "    </tr>\n",
       "    <tr>\n",
       "      <th>2</th>\n",
       "      <td>3</td>\n",
       "      <td>1</td>\n",
       "      <td>3</td>\n",
       "      <td>Heikkinen, Miss. Laina</td>\n",
       "      <td>female</td>\n",
       "      <td>26.0</td>\n",
       "      <td>0</td>\n",
       "      <td>0</td>\n",
       "      <td>STON/O2. 3101282</td>\n",
       "      <td>7.9250</td>\n",
       "      <td>NaN</td>\n",
       "      <td>S</td>\n",
       "    </tr>\n",
       "    <tr>\n",
       "      <th>3</th>\n",
       "      <td>4</td>\n",
       "      <td>1</td>\n",
       "      <td>1</td>\n",
       "      <td>Futrelle, Mrs. Jacques Heath (Lily May Peel)</td>\n",
       "      <td>female</td>\n",
       "      <td>35.0</td>\n",
       "      <td>1</td>\n",
       "      <td>0</td>\n",
       "      <td>113803</td>\n",
       "      <td>53.1000</td>\n",
       "      <td>C123</td>\n",
       "      <td>S</td>\n",
       "    </tr>\n",
       "    <tr>\n",
       "      <th>4</th>\n",
       "      <td>5</td>\n",
       "      <td>0</td>\n",
       "      <td>3</td>\n",
       "      <td>Allen, Mr. William Henry</td>\n",
       "      <td>male</td>\n",
       "      <td>35.0</td>\n",
       "      <td>0</td>\n",
       "      <td>0</td>\n",
       "      <td>373450</td>\n",
       "      <td>8.0500</td>\n",
       "      <td>NaN</td>\n",
       "      <td>S</td>\n",
       "    </tr>\n",
       "  </tbody>\n",
       "</table>\n",
       "</div>"
      ],
      "text/plain": [
       "   PassengerId  Survived  Pclass  \\\n",
       "0            1         0       3   \n",
       "1            2         1       1   \n",
       "2            3         1       3   \n",
       "3            4         1       1   \n",
       "4            5         0       3   \n",
       "\n",
       "                                                Name     Sex   Age  SibSp  \\\n",
       "0                            Braund, Mr. Owen Harris    male  22.0      1   \n",
       "1  Cumings, Mrs. John Bradley (Florence Briggs Th...  female  38.0      1   \n",
       "2                             Heikkinen, Miss. Laina  female  26.0      0   \n",
       "3       Futrelle, Mrs. Jacques Heath (Lily May Peel)  female  35.0      1   \n",
       "4                           Allen, Mr. William Henry    male  35.0      0   \n",
       "\n",
       "   Parch            Ticket     Fare Cabin Embarked  \n",
       "0      0         A/5 21171   7.2500   NaN        S  \n",
       "1      0          PC 17599  71.2833   C85        C  \n",
       "2      0  STON/O2. 3101282   7.9250   NaN        S  \n",
       "3      0            113803  53.1000  C123        S  \n",
       "4      0            373450   8.0500   NaN        S  "
      ]
     },
     "metadata": {},
     "output_type": "display_data"
    }
   ],
   "source": [
    "# cargar los datos\n",
    "import pandas as pd\n",
    "train = pd.read_csv('datasets/titanic/train.csv')\n",
    "display(train.info())\n",
    "display(train.head())"
   ]
  },
  {
   "cell_type": "code",
   "execution_count": 57,
   "metadata": {},
   "outputs": [
    {
     "name": "stdout",
     "output_type": "stream",
     "text": [
      "<class 'pandas.core.frame.DataFrame'>\n",
      "RangeIndex: 891 entries, 0 to 890\n",
      "Data columns (total 5 columns):\n",
      "Survived    891 non-null int64\n",
      "Pclass      891 non-null int64\n",
      "SibSp       891 non-null int64\n",
      "Parch       891 non-null int64\n",
      "Fare        891 non-null float64\n",
      "dtypes: float64(1), int64(4)\n",
      "memory usage: 34.9 KB\n"
     ]
    },
    {
     "data": {
      "text/plain": [
       "None"
      ]
     },
     "metadata": {},
     "output_type": "display_data"
    },
    {
     "data": {
      "text/html": [
       "<div>\n",
       "<style scoped>\n",
       "    .dataframe tbody tr th:only-of-type {\n",
       "        vertical-align: middle;\n",
       "    }\n",
       "\n",
       "    .dataframe tbody tr th {\n",
       "        vertical-align: top;\n",
       "    }\n",
       "\n",
       "    .dataframe thead th {\n",
       "        text-align: right;\n",
       "    }\n",
       "</style>\n",
       "<table border=\"1\" class=\"dataframe\">\n",
       "  <thead>\n",
       "    <tr style=\"text-align: right;\">\n",
       "      <th></th>\n",
       "      <th>Survived</th>\n",
       "      <th>Pclass</th>\n",
       "      <th>SibSp</th>\n",
       "      <th>Parch</th>\n",
       "      <th>Fare</th>\n",
       "    </tr>\n",
       "  </thead>\n",
       "  <tbody>\n",
       "    <tr>\n",
       "      <th>0</th>\n",
       "      <td>0</td>\n",
       "      <td>3</td>\n",
       "      <td>1</td>\n",
       "      <td>0</td>\n",
       "      <td>7.2500</td>\n",
       "    </tr>\n",
       "    <tr>\n",
       "      <th>1</th>\n",
       "      <td>1</td>\n",
       "      <td>1</td>\n",
       "      <td>1</td>\n",
       "      <td>0</td>\n",
       "      <td>71.2833</td>\n",
       "    </tr>\n",
       "    <tr>\n",
       "      <th>2</th>\n",
       "      <td>1</td>\n",
       "      <td>3</td>\n",
       "      <td>0</td>\n",
       "      <td>0</td>\n",
       "      <td>7.9250</td>\n",
       "    </tr>\n",
       "    <tr>\n",
       "      <th>3</th>\n",
       "      <td>1</td>\n",
       "      <td>1</td>\n",
       "      <td>1</td>\n",
       "      <td>0</td>\n",
       "      <td>53.1000</td>\n",
       "    </tr>\n",
       "    <tr>\n",
       "      <th>4</th>\n",
       "      <td>0</td>\n",
       "      <td>3</td>\n",
       "      <td>0</td>\n",
       "      <td>0</td>\n",
       "      <td>8.0500</td>\n",
       "    </tr>\n",
       "  </tbody>\n",
       "</table>\n",
       "</div>"
      ],
      "text/plain": [
       "   Survived  Pclass  SibSp  Parch     Fare\n",
       "0         0       3      1      0   7.2500\n",
       "1         1       1      1      0  71.2833\n",
       "2         1       3      0      0   7.9250\n",
       "3         1       1      1      0  53.1000\n",
       "4         0       3      0      0   8.0500"
      ]
     },
     "metadata": {},
     "output_type": "display_data"
    }
   ],
   "source": [
    "del train['PassengerId']  # eliminar ids\n",
    "del train['Name']\n",
    "del train['Sex']\n",
    "del train['Age']\n",
    "del train['Ticket']\n",
    "del train['Cabin']\n",
    "del train['Embarked']\n",
    "display(train.info())\n",
    "display(train.head())"
   ]
  },
  {
   "cell_type": "code",
   "execution_count": 59,
   "metadata": {},
   "outputs": [
    {
     "name": "stdout",
     "output_type": "stream",
     "text": [
      "OOB Score: 0.7172\n"
     ]
    }
   ],
   "source": [
    "# entrenar la misma Random Forest, e imprimir el out-of-bag score\n",
    "from sklearn.ensemble import RandomForestClassifier\n",
    "\n",
    "rf = RandomForestClassifier(criterion='gini', \n",
    "                             n_estimators=700,\n",
    "                             min_samples_split=10,\n",
    "                             min_samples_leaf=1,\n",
    "                             max_features='auto',\n",
    "                             oob_score=True,\n",
    "                             random_state=1,\n",
    "                             n_jobs=-1)\n",
    "rf.fit(train.iloc[:, 1:], train.iloc[:, 0])\n",
    "print(\"OOB Score: %.4f\" % rf.oob_score_)"
   ]
  },
  {
   "cell_type": "markdown",
   "metadata": {},
   "source": [
    "### Ejercicio 2b:\n",
    "\n",
    "En este ejercicio deberá hacer tres mejoras en la preparación de los datos:\n",
    "\n",
    "- Completar la columna \"Age\" y usarla.\n",
    "- Agregar una nueva columna con el largo del nombre.\n",
    "- Convertir la columna \"Sex\" a valores numéricos y usarla.\n",
    "\n",
    "Calcular el OOB score de cada una de las mejoras por separado.\n",
    "\n",
    "**Responda**: ¿Cuál de las tres mejoras aporta más?"
   ]
  },
  {
   "cell_type": "code",
   "execution_count": 77,
   "metadata": {},
   "outputs": [
    {
     "name": "stdout",
     "output_type": "stream",
     "text": [
      "<class 'pandas.core.frame.DataFrame'>\n",
      "RangeIndex: 891 entries, 0 to 890\n",
      "Data columns (total 12 columns):\n",
      "PassengerId    891 non-null int64\n",
      "Survived       891 non-null int64\n",
      "Pclass         891 non-null int64\n",
      "Name           891 non-null object\n",
      "Sex            891 non-null object\n",
      "Age            714 non-null float64\n",
      "SibSp          891 non-null int64\n",
      "Parch          891 non-null int64\n",
      "Ticket         891 non-null object\n",
      "Fare           891 non-null float64\n",
      "Cabin          204 non-null object\n",
      "Embarked       889 non-null object\n",
      "dtypes: float64(2), int64(5), object(5)\n",
      "memory usage: 83.6+ KB\n"
     ]
    },
    {
     "data": {
      "text/plain": [
       "None"
      ]
     },
     "metadata": {},
     "output_type": "display_data"
    },
    {
     "name": "stdout",
     "output_type": "stream",
     "text": [
      "<class 'pandas.core.frame.DataFrame'>\n",
      "RangeIndex: 891 entries, 0 to 890\n",
      "Data columns (total 6 columns):\n",
      "Survived    891 non-null int64\n",
      "Pclass      891 non-null int64\n",
      "Age         714 non-null float64\n",
      "SibSp       891 non-null int64\n",
      "Parch       891 non-null int64\n",
      "Fare        891 non-null float64\n",
      "dtypes: float64(2), int64(4)\n",
      "memory usage: 41.8 KB\n"
     ]
    },
    {
     "data": {
      "text/plain": [
       "None"
      ]
     },
     "metadata": {},
     "output_type": "display_data"
    }
   ],
   "source": [
    "# cargar nuevamente los datos\n",
    "import pandas as pd\n",
    "train = pd.read_csv('datasets/titanic/train.csv')\n",
    "display(train.info())\n",
    "del train['PassengerId']  # eliminar ids\n",
    "del train['Name']\n",
    "del train['Sex']\n",
    "del train['Ticket']\n",
    "del train['Cabin']\n",
    "del train['Embarked']\n",
    "display(train.info())"
   ]
  },
  {
   "cell_type": "code",
   "execution_count": 78,
   "metadata": {},
   "outputs": [
    {
     "name": "stdout",
     "output_type": "stream",
     "text": [
      "<class 'pandas.core.frame.DataFrame'>\n",
      "RangeIndex: 891 entries, 0 to 890\n",
      "Data columns (total 6 columns):\n",
      "Survived    891 non-null int64\n",
      "Pclass      891 non-null int64\n",
      "Age         891 non-null float64\n",
      "SibSp       891 non-null int64\n",
      "Parch       891 non-null int64\n",
      "Fare        891 non-null float64\n",
      "dtypes: float64(2), int64(4)\n",
      "memory usage: 41.8 KB\n"
     ]
    },
    {
     "data": {
      "text/plain": [
       "None"
      ]
     },
     "metadata": {},
     "output_type": "display_data"
    }
   ],
   "source": [
    "# COMPLETAR: completar con el valor medio los datos faltantes en el campo Age\n",
    "train.Age = train.Age.fillna(train.Age.mean())\n",
    "display(train.info())"
   ]
  },
  {
   "cell_type": "code",
   "execution_count": 79,
   "metadata": {},
   "outputs": [
    {
     "name": "stdout",
     "output_type": "stream",
     "text": [
      "OOB Score: 0.7250\n"
     ]
    }
   ],
   "source": [
    "# EJECUTAR ESTO TRES VECES, UNA VEZ PARA CADA MEJORA.\n",
    "# entrenar el Random Forest, e imprimir out-of-bag score\n",
    "from sklearn.ensemble import RandomForestClassifier\n",
    "\n",
    "rf = RandomForestClassifier(criterion='gini', \n",
    "                             n_estimators=700,\n",
    "                             min_samples_split=10,\n",
    "                             min_samples_leaf=1,\n",
    "                             max_features='auto',\n",
    "                             oob_score=True,\n",
    "                             random_state=1,\n",
    "                             n_jobs=-1)\n",
    "rf.fit(train.iloc[:, 1:], train.iloc[:, 0])\n",
    "print(\"OOB Score: %.4f\" % rf.oob_score_)"
   ]
  },
  {
   "cell_type": "code",
   "execution_count": 80,
   "metadata": {},
   "outputs": [
    {
     "name": "stdout",
     "output_type": "stream",
     "text": [
      "<class 'pandas.core.frame.DataFrame'>\n",
      "RangeIndex: 891 entries, 0 to 890\n",
      "Data columns (total 12 columns):\n",
      "PassengerId    891 non-null int64\n",
      "Survived       891 non-null int64\n",
      "Pclass         891 non-null int64\n",
      "Name           891 non-null object\n",
      "Sex            891 non-null object\n",
      "Age            714 non-null float64\n",
      "SibSp          891 non-null int64\n",
      "Parch          891 non-null int64\n",
      "Ticket         891 non-null object\n",
      "Fare           891 non-null float64\n",
      "Cabin          204 non-null object\n",
      "Embarked       889 non-null object\n",
      "dtypes: float64(2), int64(5), object(5)\n",
      "memory usage: 83.6+ KB\n"
     ]
    },
    {
     "data": {
      "text/plain": [
       "None"
      ]
     },
     "metadata": {},
     "output_type": "display_data"
    },
    {
     "name": "stdout",
     "output_type": "stream",
     "text": [
      "<class 'pandas.core.frame.DataFrame'>\n",
      "RangeIndex: 891 entries, 0 to 890\n",
      "Data columns (total 6 columns):\n",
      "Survived    891 non-null int64\n",
      "Pclass      891 non-null int64\n",
      "Name        891 non-null object\n",
      "SibSp       891 non-null int64\n",
      "Parch       891 non-null int64\n",
      "Fare        891 non-null float64\n",
      "dtypes: float64(1), int64(4), object(1)\n",
      "memory usage: 41.8+ KB\n"
     ]
    },
    {
     "data": {
      "text/plain": [
       "None"
      ]
     },
     "metadata": {},
     "output_type": "display_data"
    }
   ],
   "source": [
    "# cargar nuevamente los datos\n",
    "import pandas as pd\n",
    "train = pd.read_csv('datasets/titanic/train.csv')\n",
    "display(train.info())\n",
    "del train['PassengerId']  # eliminar ids\n",
    "del train['Sex']\n",
    "del train['Age']\n",
    "del train['Ticket']\n",
    "del train['Cabin']\n",
    "del train['Embarked']\n",
    "display(train.info())"
   ]
  },
  {
   "cell_type": "code",
   "execution_count": 81,
   "metadata": {},
   "outputs": [
    {
     "name": "stdout",
     "output_type": "stream",
     "text": [
      "<class 'pandas.core.frame.DataFrame'>\n",
      "RangeIndex: 891 entries, 0 to 890\n",
      "Data columns (total 6 columns):\n",
      "Survived      891 non-null int64\n",
      "Pclass        891 non-null int64\n",
      "SibSp         891 non-null int64\n",
      "Parch         891 non-null int64\n",
      "Fare          891 non-null float64\n",
      "NameLenght    891 non-null int64\n",
      "dtypes: float64(1), int64(5)\n",
      "memory usage: 41.8 KB\n"
     ]
    },
    {
     "data": {
      "text/plain": [
       "None"
      ]
     },
     "metadata": {},
     "output_type": "display_data"
    },
    {
     "data": {
      "text/html": [
       "<div>\n",
       "<style scoped>\n",
       "    .dataframe tbody tr th:only-of-type {\n",
       "        vertical-align: middle;\n",
       "    }\n",
       "\n",
       "    .dataframe tbody tr th {\n",
       "        vertical-align: top;\n",
       "    }\n",
       "\n",
       "    .dataframe thead th {\n",
       "        text-align: right;\n",
       "    }\n",
       "</style>\n",
       "<table border=\"1\" class=\"dataframe\">\n",
       "  <thead>\n",
       "    <tr style=\"text-align: right;\">\n",
       "      <th></th>\n",
       "      <th>Survived</th>\n",
       "      <th>Pclass</th>\n",
       "      <th>SibSp</th>\n",
       "      <th>Parch</th>\n",
       "      <th>Fare</th>\n",
       "      <th>NameLenght</th>\n",
       "    </tr>\n",
       "  </thead>\n",
       "  <tbody>\n",
       "    <tr>\n",
       "      <th>0</th>\n",
       "      <td>0</td>\n",
       "      <td>3</td>\n",
       "      <td>1</td>\n",
       "      <td>0</td>\n",
       "      <td>7.2500</td>\n",
       "      <td>23</td>\n",
       "    </tr>\n",
       "    <tr>\n",
       "      <th>1</th>\n",
       "      <td>1</td>\n",
       "      <td>1</td>\n",
       "      <td>1</td>\n",
       "      <td>0</td>\n",
       "      <td>71.2833</td>\n",
       "      <td>51</td>\n",
       "    </tr>\n",
       "    <tr>\n",
       "      <th>2</th>\n",
       "      <td>1</td>\n",
       "      <td>3</td>\n",
       "      <td>0</td>\n",
       "      <td>0</td>\n",
       "      <td>7.9250</td>\n",
       "      <td>22</td>\n",
       "    </tr>\n",
       "    <tr>\n",
       "      <th>3</th>\n",
       "      <td>1</td>\n",
       "      <td>1</td>\n",
       "      <td>1</td>\n",
       "      <td>0</td>\n",
       "      <td>53.1000</td>\n",
       "      <td>44</td>\n",
       "    </tr>\n",
       "    <tr>\n",
       "      <th>4</th>\n",
       "      <td>0</td>\n",
       "      <td>3</td>\n",
       "      <td>0</td>\n",
       "      <td>0</td>\n",
       "      <td>8.0500</td>\n",
       "      <td>24</td>\n",
       "    </tr>\n",
       "  </tbody>\n",
       "</table>\n",
       "</div>"
      ],
      "text/plain": [
       "   Survived  Pclass  SibSp  Parch     Fare  NameLenght\n",
       "0         0       3      1      0   7.2500          23\n",
       "1         1       1      1      0  71.2833          51\n",
       "2         1       3      0      0   7.9250          22\n",
       "3         1       1      1      0  53.1000          44\n",
       "4         0       3      0      0   8.0500          24"
      ]
     },
     "metadata": {},
     "output_type": "display_data"
    }
   ],
   "source": [
    "# COMPLETAR: agregar columna con el largo del nombre\n",
    "train['NameLenght'] = train.Name.apply(lambda name: len(name))\n",
    "del train['Name']\n",
    "display(train.info())\n",
    "display(train.head())"
   ]
  },
  {
   "cell_type": "code",
   "execution_count": 82,
   "metadata": {},
   "outputs": [
    {
     "name": "stdout",
     "output_type": "stream",
     "text": [
      "OOB Score: 0.7407\n"
     ]
    }
   ],
   "source": [
    "# EJECUTAR ESTO TRES VECES, UNA VEZ PARA CADA MEJORA.\n",
    "# entrenar el Random Forest, e imprimir out-of-bag score\n",
    "from sklearn.ensemble import RandomForestClassifier\n",
    "\n",
    "rf = RandomForestClassifier(criterion='gini', \n",
    "                             n_estimators=700,\n",
    "                             min_samples_split=10,\n",
    "                             min_samples_leaf=1,\n",
    "                             max_features='auto',\n",
    "                             oob_score=True,\n",
    "                             random_state=1,\n",
    "                             n_jobs=-1)\n",
    "rf.fit(train.iloc[:, 1:], train.iloc[:, 0])\n",
    "print(\"OOB Score: %.4f\" % rf.oob_score_)"
   ]
  },
  {
   "cell_type": "code",
   "execution_count": 73,
   "metadata": {},
   "outputs": [
    {
     "name": "stdout",
     "output_type": "stream",
     "text": [
      "<class 'pandas.core.frame.DataFrame'>\n",
      "RangeIndex: 891 entries, 0 to 890\n",
      "Data columns (total 12 columns):\n",
      "PassengerId    891 non-null int64\n",
      "Survived       891 non-null int64\n",
      "Pclass         891 non-null int64\n",
      "Name           891 non-null object\n",
      "Sex            891 non-null object\n",
      "Age            714 non-null float64\n",
      "SibSp          891 non-null int64\n",
      "Parch          891 non-null int64\n",
      "Ticket         891 non-null object\n",
      "Fare           891 non-null float64\n",
      "Cabin          204 non-null object\n",
      "Embarked       889 non-null object\n",
      "dtypes: float64(2), int64(5), object(5)\n",
      "memory usage: 83.6+ KB\n"
     ]
    },
    {
     "data": {
      "text/plain": [
       "None"
      ]
     },
     "metadata": {},
     "output_type": "display_data"
    },
    {
     "name": "stdout",
     "output_type": "stream",
     "text": [
      "<class 'pandas.core.frame.DataFrame'>\n",
      "RangeIndex: 891 entries, 0 to 890\n",
      "Data columns (total 6 columns):\n",
      "Survived    891 non-null int64\n",
      "Pclass      891 non-null int64\n",
      "Sex         891 non-null object\n",
      "SibSp       891 non-null int64\n",
      "Parch       891 non-null int64\n",
      "Fare        891 non-null float64\n",
      "dtypes: float64(1), int64(4), object(1)\n",
      "memory usage: 41.8+ KB\n"
     ]
    },
    {
     "data": {
      "text/plain": [
       "None"
      ]
     },
     "metadata": {},
     "output_type": "display_data"
    }
   ],
   "source": [
    "# cargar nuevamente los datos\n",
    "import pandas as pd\n",
    "train = pd.read_csv('datasets/titanic/train.csv')\n",
    "display(train.info())\n",
    "del train['PassengerId']  # eliminar ids\n",
    "del train['Name']\n",
    "del train['Age']\n",
    "del train['Ticket']\n",
    "del train['Cabin']\n",
    "del train['Embarked']\n",
    "display(train.info())"
   ]
  },
  {
   "cell_type": "code",
   "execution_count": 75,
   "metadata": {},
   "outputs": [
    {
     "name": "stdout",
     "output_type": "stream",
     "text": [
      "<class 'pandas.core.frame.DataFrame'>\n",
      "RangeIndex: 891 entries, 0 to 890\n",
      "Data columns (total 6 columns):\n",
      "Survived    891 non-null int64\n",
      "Pclass      891 non-null int64\n",
      "Sex         891 non-null int64\n",
      "SibSp       891 non-null int64\n",
      "Parch       891 non-null int64\n",
      "Fare        891 non-null float64\n",
      "dtypes: float64(1), int64(5)\n",
      "memory usage: 41.8 KB\n"
     ]
    },
    {
     "data": {
      "text/plain": [
       "None"
      ]
     },
     "metadata": {},
     "output_type": "display_data"
    }
   ],
   "source": [
    "# COMPLETAR: poner 1 en lugar de 'female' y 0 en lugar de 'male'\n",
    "# AYUDA: DEFINIR LA FUNCIÓN f Y HACER:\n",
    "def f(sex):\n",
    "    if sex == 'male':\n",
    "        return 0\n",
    "    else:\n",
    "        return 1\n",
    "train['Sex'] = train['Sex'].apply(f)\n",
    "display(train.info())"
   ]
  },
  {
   "cell_type": "code",
   "execution_count": null,
   "metadata": {},
   "outputs": [],
   "source": [
    "# COMPLETAR: eliminar las columnas que deban ser eliminadas"
   ]
  },
  {
   "cell_type": "code",
   "execution_count": 76,
   "metadata": {},
   "outputs": [
    {
     "name": "stdout",
     "output_type": "stream",
     "text": [
      "OOB Score: 0.8025\n"
     ]
    }
   ],
   "source": [
    "# EJECUTAR ESTO TRES VECES, UNA VEZ PARA CADA MEJORA.\n",
    "# entrenar el Random Forest, e imprimir out-of-bag score\n",
    "from sklearn.ensemble import RandomForestClassifier\n",
    "\n",
    "rf = RandomForestClassifier(criterion='gini', \n",
    "                             n_estimators=700,\n",
    "                             min_samples_split=10,\n",
    "                             min_samples_leaf=1,\n",
    "                             max_features='auto',\n",
    "                             oob_score=True,\n",
    "                             random_state=1,\n",
    "                             n_jobs=-1)\n",
    "rf.fit(train.iloc[:, 1:], train.iloc[:, 0])\n",
    "print(\"OOB Score: %.4f\" % rf.oob_score_)"
   ]
  },
  {
   "cell_type": "markdown",
   "metadata": {},
   "source": [
    "Calcular el OOB score de cada una de las mejoras por separado.\n",
    "\n",
    "**Responda**: ¿Cuál de las tres mejoras aporta más?\n",
    "\n",
    "- Sin mejoras:\n",
    "\n",
    "OOB Score: 0.7172\n",
    "\n",
    "Mejoras:\n",
    "\n",
    "- Completar la columna \"Age\" y usarla.\n",
    "\n",
    "OOB Score: 0.7250\n",
    "- Agregar una nueva columna con el largo del nombre.\n",
    "\n",
    "OOB Score: 0.7407\n",
    "- Convertir la columna \"Sex\" a valores numéricos y usarla.\n",
    "\n",
    "OOB Score: 0.8025\n",
    "\n",
    "Se observa que la mejora que aporta mas es la codificacion del sexo en terminos booleanos"
   ]
  },
  {
   "cell_type": "code",
   "execution_count": null,
   "metadata": {},
   "outputs": [],
   "source": []
  }
 ],
 "metadata": {
  "kernelspec": {
   "display_name": "Python 3",
   "language": "python",
   "name": "python3"
  },
  "language_info": {
   "codemirror_mode": {
    "name": "ipython",
    "version": 3
   },
   "file_extension": ".py",
   "mimetype": "text/x-python",
   "name": "python",
   "nbconvert_exporter": "python",
   "pygments_lexer": "ipython3",
   "version": "3.6.4"
  }
 },
 "nbformat": 4,
 "nbformat_minor": 2
}
