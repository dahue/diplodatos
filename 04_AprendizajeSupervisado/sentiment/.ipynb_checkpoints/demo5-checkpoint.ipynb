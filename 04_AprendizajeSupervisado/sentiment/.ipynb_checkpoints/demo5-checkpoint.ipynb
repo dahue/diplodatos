{
 "cells": [
  {
   "cell_type": "markdown",
   "metadata": {},
   "source": [
    "# Sentiment Analyisis: Ajuste de Parámetros"
   ]
  },
  {
   "cell_type": "code",
   "execution_count": 17,
   "metadata": {},
   "outputs": [
    {
     "name": "stdout",
     "output_type": "stream",
     "text": [
      "The autoreload extension is already loaded. To reload it, use:\n",
      "  %reload_ext autoreload\n"
     ]
    }
   ],
   "source": [
    "%load_ext autoreload\n",
    "%autoreload 2"
   ]
  },
  {
   "cell_type": "code",
   "execution_count": 18,
   "metadata": {},
   "outputs": [],
   "source": [
    "from util import load_datasets\n",
    "train, dev, test = load_datasets()\n",
    "X_train, y_train = train\n",
    "X_dev, y_dev = dev\n",
    "X_test, y_test = test"
   ]
  },
  {
   "cell_type": "markdown",
   "metadata": {},
   "source": [
    "## Estado del Arte Actual"
   ]
  },
  {
   "cell_type": "code",
   "execution_count": 19,
   "metadata": {},
   "outputs": [
    {
     "name": "stdout",
     "output_type": "stream",
     "text": [
      "accuracy\t0.85\n",
      "\n",
      "             precision    recall  f1-score   support\n",
      "\n",
      "        neg       0.85      0.88      0.86       162\n",
      "        pos       0.85      0.82      0.83       138\n",
      "\n",
      "avg / total       0.85      0.85      0.85       300\n",
      "\n",
      "[[142  20]\n",
      " [ 25 113]]\n"
     ]
    }
   ],
   "source": [
    "from sklearn.pipeline import Pipeline\n",
    "from sklearn.feature_extraction.text import CountVectorizer\n",
    "from sklearn.linear_model import LogisticRegression\n",
    "from util import print_eval\n",
    "\n",
    "pipeline = Pipeline([\n",
    "    ('vect', CountVectorizer(binary=True)),\n",
    "    ('clf', LogisticRegression(random_state=0)),\n",
    "])\n",
    "pipeline.fit(X_train, y_train)\n",
    "print_eval(pipeline, X_dev, y_dev)"
   ]
  },
  {
   "cell_type": "markdown",
   "metadata": {},
   "source": [
    "## Vectorizador\n",
    "\n",
    "Primero hagamos un estudio superficial para ver qué parámetros vale la pena analizar.\n",
    "\n",
    "### Rango de n-gramas"
   ]
  },
  {
   "cell_type": "code",
   "execution_count": 20,
   "metadata": {},
   "outputs": [
    {
     "name": "stdout",
     "output_type": "stream",
     "text": [
      "accuracy\t0.87\n",
      "\n",
      "             precision    recall  f1-score   support\n",
      "\n",
      "        neg       0.87      0.88      0.88       162\n",
      "        pos       0.86      0.85      0.85       138\n",
      "\n",
      "avg / total       0.87      0.87      0.87       300\n",
      "\n",
      "[[143  19]\n",
      " [ 21 117]]\n"
     ]
    }
   ],
   "source": [
    "pipeline = Pipeline([\n",
    "    ('vect', CountVectorizer(\n",
    "        binary=True,\n",
    "        ngram_range=(1, 2),\n",
    "    )),\n",
    "    ('clf', LogisticRegression(random_state=0)),\n",
    "])\n",
    "pipeline.fit(X_train, y_train)\n",
    "print_eval(pipeline, X_dev, y_dev)"
   ]
  },
  {
   "cell_type": "markdown",
   "metadata": {},
   "source": [
    "### Min Frequency"
   ]
  },
  {
   "cell_type": "code",
   "execution_count": 21,
   "metadata": {},
   "outputs": [
    {
     "name": "stdout",
     "output_type": "stream",
     "text": [
      "accuracy\t0.85\n",
      "\n",
      "             precision    recall  f1-score   support\n",
      "\n",
      "        neg       0.85      0.88      0.86       162\n",
      "        pos       0.85      0.82      0.83       138\n",
      "\n",
      "avg / total       0.85      0.85      0.85       300\n",
      "\n",
      "[[142  20]\n",
      " [ 25 113]]\n"
     ]
    }
   ],
   "source": [
    "pipeline = Pipeline([\n",
    "    ('vect', CountVectorizer(\n",
    "        binary=True,\n",
    "        #min_df=5,\n",
    "    )),\n",
    "    ('clf', LogisticRegression(random_state=0)),\n",
    "])\n",
    "pipeline.fit(X_train, y_train)\n",
    "print_eval(pipeline, X_dev, y_dev)"
   ]
  },
  {
   "cell_type": "markdown",
   "metadata": {},
   "source": [
    "### Max Frequency"
   ]
  },
  {
   "cell_type": "code",
   "execution_count": 22,
   "metadata": {},
   "outputs": [
    {
     "name": "stdout",
     "output_type": "stream",
     "text": [
      "accuracy\t0.85\n",
      "\n",
      "             precision    recall  f1-score   support\n",
      "\n",
      "        neg       0.85      0.86      0.86       162\n",
      "        pos       0.84      0.83      0.83       138\n",
      "\n",
      "avg / total       0.85      0.85      0.85       300\n",
      "\n",
      "[[140  22]\n",
      " [ 24 114]]\n"
     ]
    }
   ],
   "source": [
    "pipeline = Pipeline([\n",
    "    ('vect', CountVectorizer(\n",
    "        binary=True,\n",
    "        max_df=0.7,\n",
    "    )),\n",
    "    ('clf', LogisticRegression(random_state=0)),\n",
    "])\n",
    "pipeline.fit(X_train, y_train)\n",
    "print_eval(pipeline, X_dev, y_dev)"
   ]
  },
  {
   "cell_type": "markdown",
   "metadata": {},
   "source": [
    "### Stop words"
   ]
  },
  {
   "cell_type": "code",
   "execution_count": 23,
   "metadata": {},
   "outputs": [
    {
     "name": "stdout",
     "output_type": "stream",
     "text": [
      "accuracy\t0.84\n",
      "\n",
      "             precision    recall  f1-score   support\n",
      "\n",
      "        neg       0.85      0.86      0.86       162\n",
      "        pos       0.83      0.83      0.83       138\n",
      "\n",
      "avg / total       0.84      0.84      0.84       300\n",
      "\n",
      "[[139  23]\n",
      " [ 24 114]]\n"
     ]
    }
   ],
   "source": [
    "pipeline = Pipeline([\n",
    "    ('vect', CountVectorizer(\n",
    "        binary=True,\n",
    "        stop_words='english',\n",
    "    )),\n",
    "    ('clf', LogisticRegression(random_state=0)),\n",
    "])\n",
    "pipeline.fit(X_train, y_train)\n",
    "print_eval(pipeline, X_dev, y_dev)"
   ]
  },
  {
   "cell_type": "markdown",
   "metadata": {},
   "source": [
    "### Grid-Search en Development\n",
    "\n",
    "Probemos muchas las combinaciones posibles de valores."
   ]
  },
  {
   "cell_type": "code",
   "execution_count": 24,
   "metadata": {},
   "outputs": [],
   "source": [
    "from sklearn.model_selection import ParameterGrid\n",
    "\n",
    "param_grid = {\n",
    "    'vect__binary': [True],\n",
    "    'vect__ngram_range': [(1, 1), (1, 2), (1, 3), (1, 4), (1, 5)],\n",
    "    'vect__min_df': [1, 3, 5, 7],\n",
    "    'vect__max_df': [0.95, 0.9, 0.7],\n",
    "    'clf__random_state': [0],\n",
    "}\n",
    "\n",
    "params_list = list(ParameterGrid(param_grid))"
   ]
  },
  {
   "cell_type": "code",
   "execution_count": 25,
   "metadata": {},
   "outputs": [
    {
     "data": {
      "text/plain": [
       "60"
      ]
     },
     "execution_count": 25,
     "metadata": {},
     "output_type": "execute_result"
    }
   ],
   "source": [
    "params_list[10]\n",
    "len(params_list)"
   ]
  },
  {
   "cell_type": "code",
   "execution_count": null,
   "metadata": {},
   "outputs": [],
   "source": [
    "from sklearn.feature_extraction.text import CountVectorizer\n",
    "from sklearn.pipeline import Pipeline\n",
    "from sklearn import metrics\n",
    "from util import eval\n",
    "\n",
    "pipeline = Pipeline([\n",
    "    ('vect', CountVectorizer()),\n",
    "    ('clf', LogisticRegression()),\n",
    "])\n",
    "\n",
    "results = []\n",
    "for params in params_list:\n",
    "    # TODO: add progress bar!\n",
    "    pipeline.set_params(**params)\n",
    "    pipeline.fit(X_train, y_train)\n",
    "    result = eval(pipeline, X_dev, y_dev)\n",
    "    \n",
    "    results.append({\n",
    "        **result,\n",
    "        **params,\n",
    "    })"
   ]
  },
  {
   "cell_type": "code",
   "execution_count": null,
   "metadata": {},
   "outputs": [],
   "source": [
    "import pandas as pd\n",
    "\n",
    "results_df = pd.DataFrame(results)\n",
    "results_df.sort_values(['acc', 'f1'], ascending=False)[:10]"
   ]
  },
  {
   "cell_type": "markdown",
   "metadata": {},
   "source": [
    "¡Excelente!\n",
    "\n",
    "Conclusiones:\n",
    "1. Tenemos dos mejores configuraciones.\n",
    "2. Para próximas búsquedas podemos descartar algunos valores.\n",
    "\n",
    "Elegimos la siguiente configuración:"
   ]
  },
  {
   "cell_type": "code",
   "execution_count": null,
   "metadata": {},
   "outputs": [],
   "source": [
    "from sklearn.pipeline import Pipeline\n",
    "from sklearn.feature_extraction.text import CountVectorizer\n",
    "from sklearn.linear_model import LogisticRegression\n",
    "from util import print_eval\n",
    "\n",
    "pipeline = Pipeline([\n",
    "    ('vect', CountVectorizer(\n",
    "        binary=True,\n",
    "        min_df=3,\n",
    "        max_df=0.90,\n",
    "        ngram_range=(1, 5),\n",
    "    )),\n",
    "    ('clf', LogisticRegression(random_state=0)),\n",
    "])\n",
    "pipeline.fit(X_train, y_train)\n",
    "print_eval(pipeline, X_dev, y_dev)"
   ]
  },
  {
   "cell_type": "markdown",
   "metadata": {},
   "source": [
    "Evaluamos en test y guardamos el modelo:"
   ]
  },
  {
   "cell_type": "code",
   "execution_count": null,
   "metadata": {},
   "outputs": [],
   "source": [
    "print_eval(pipeline, X_test, y_test)\n",
    "from util import save_model\n",
    "save_model(pipeline, '2018-07-27_count_logreg')"
   ]
  },
  {
   "cell_type": "markdown",
   "metadata": {},
   "source": [
    "### Grid-Search con Cross Validation\n",
    "\n",
    "**¡Ejercicio!**\n",
    "\n",
    "En lugar de hacer la búsqueda sobre dev, hacer 5-fold cross validation sobre la unión de train y dev."
   ]
  }
 ],
 "metadata": {
  "kernelspec": {
   "display_name": "Python 3",
   "language": "python",
   "name": "python3"
  },
  "language_info": {
   "codemirror_mode": {
    "name": "ipython",
    "version": 3
   },
   "file_extension": ".py",
   "mimetype": "text/x-python",
   "name": "python",
   "nbconvert_exporter": "python",
   "pygments_lexer": "ipython3",
   "version": "3.6.4"
  }
 },
 "nbformat": 4,
 "nbformat_minor": 2
}
